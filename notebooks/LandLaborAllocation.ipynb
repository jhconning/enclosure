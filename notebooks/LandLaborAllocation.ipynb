{
 "cells": [
  {
   "cell_type": "markdown",
   "metadata": {},
   "source": [
    "# Allocation of land and labor in the traditional sector\n",
    "\n",
    "So, one thing we have realized is that maybe the means by which land is allocated can be tied to labor allocated in a more nuanced way. This might be done simply, and produce a really neat model. \n",
    "\n",
    "I think the key equation is Jonathan's attack based on Euler's theorem:\n",
    "\n",
    "$$\n",
    "\\frac{F(L,T)}{L} = F_L + F_T\\left(\\frac{T}{L}\\right)\n",
    "$$\n",
    "\n",
    "This equation is an identity, yes, but it is also more of an attitude or a life view.\n",
    "\n",
    "## Why?\n",
    "\n",
    "So, to me this is in some ways a way of thinking about what might be a bit of a disconnect between the hunter-gatherer view of the commons, where there is no real need to think about how land is \"used,\" with the more amorphous concept of temporary farming, grazing, etc. on commonly owned land. In the latter case, one has to think a bit more about what happens with the land when someone goes to work it. Everyone isn't sowing a giant plot and then taking away a share of the output, after all...\n",
    "\n"
   ]
  },
  {
   "cell_type": "markdown",
   "metadata": {},
   "source": [
    "## An Example:\n",
    "\n",
    "So, consider the following alternative derivation of our model, which looks and feels less like a model of hunting or fishing on a commonly owned piece of property, and more like a model of incipient, village agriculture.\n",
    "\n",
    "- Each individual allocates $l_i$ units of labor to the village commons. Let $\\sum l_i=L$\n",
    "- A mechanism (perhaps a village elder? perhaps prestige) considers $l_1,l_2,l_3,\\dots,l_N$, and responds with land shares $h_i(l_i,L)$, where $\\sum h_i \\leq 1$. \n",
    "- Individual's output is (say) $h_i(l_i,L)^\\alpha l_i^{1-\\alpha}T^\\alpha$\n",
    "\n",
    "### As our model has previously worked...\n",
    "\n",
    "We have typically taken it to be the case that $l_i=1$, and therefore $L=N$ (really, just the population). We have also assumed that the allocation function, $h_i$ is equal share. Hence:\n",
    "\n",
    "$$\n",
    "h_i=\\frac{l_i}{L}\n",
    "$$\n",
    "\n",
    "Plugging all of this in gives:"
   ]
  },
  {
   "cell_type": "markdown",
   "metadata": {},
   "source": [
    "$$\n",
    "q_i = \\left(\\frac{l_i}{L}T\\right)^\\alpha l_i^{1-\\alpha}\n",
    "$$\n",
    "\n",
    "If $l_i=1$, this results in the following:\n",
    "\n",
    "$$\n",
    "q_i = \\left(\\frac{T}{L}\\right)^\\alpha\n",
    "$$"
   ]
  },
  {
   "cell_type": "code",
   "execution_count": null,
   "metadata": {},
   "outputs": [],
   "source": []
  }
 ],
 "metadata": {
  "kernelspec": {
   "display_name": "Python 3",
   "language": "python",
   "name": "python3"
  },
  "language_info": {
   "codemirror_mode": {
    "name": "ipython",
    "version": 3
   },
   "file_extension": ".py",
   "mimetype": "text/x-python",
   "name": "python",
   "nbconvert_exporter": "python",
   "pygments_lexer": "ipython3",
   "version": "3.7.7"
  }
 },
 "nbformat": 4,
 "nbformat_minor": 4
}
