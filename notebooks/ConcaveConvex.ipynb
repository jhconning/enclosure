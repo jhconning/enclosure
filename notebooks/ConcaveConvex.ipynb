{
 "cells": [
  {
   "cell_type": "markdown",
   "metadata": {},
   "source": [
    "# The shape of aggregate production with conditional optimality\n",
    "\n",
    "The key function is the following one:\n",
    "\n",
    "$$\n",
    "s(t_e) = \\frac{1-t_e+\\frac{\\Lambda}{\\alpha}t_e}{(1-t_e+\\Lambda t_e)^\\alpha}\n",
    "$$\n",
    "\n",
    "where $\\Lambda = (\\alpha\\theta)^\\frac{1}{1-\\alpha}$. This is where the condition $\\theta > \\frac{1}{\\alpha}$ comes from. It figures into the total output function, which is:\n",
    "\n",
    "$$\n",
    "Y=\\bar T^{1-\\alpha} \\bar L^\\alpha s(t_e) - ct_eT\n",
    "$$\n",
    "\n",
    "If we want to study optimal allocations, we need to know the shape of $Y$, which depends wholly on the shape of $s(t_e)$. The easiest way to uncover all of these properties is to apply l'Hopital's Monotone Rule (Anderson, Vamanamurthy, and Vuorinen (2006)) to get all the results. It says:\n",
    "\n",
    "_If $f(x)$ and $g(x)$ are well-defined and continuous on an interval $(a,b)$, and $\\frac{f'(x)}{g'(x)}$ is monotone increasing (decreasing), then so is $\\frac{f(x)}{g(x)}.$_\n",
    "\n",
    "Take\n",
    "\n",
    "$$\n",
    "f(x) = 1-t_e+\\frac{\\Lambda}{\\alpha}t_e,\\quad g(x)=(1-t_e+\\Lambda t_e)^\\alpha\n",
    "$$\n",
    "\n",
    "The advantage of this is that the numerator is usually linear, so the derivative is a constant and one can clearly see the properties of $s(t_e)$. "
   ]
  },
  {
   "cell_type": "markdown",
   "metadata": {},
   "source": [
    "So, in this instance, we have:\n",
    "\n",
    "$$\n",
    "\\frac{f'(x)}{g'(x)}= \\frac{\\frac{\\Lambda}{\\alpha}-1}{(\\Lambda-1)\\alpha(1-t_e+\\Lambda t_e)^{\\alpha-1}}=\\frac{1}{\\alpha}\\left(\\frac{\\Lambda}{\\alpha}-1\\right)\\frac{(1-t_e+\\Lambda t_e)^{1-\\alpha}}{\\Lambda-1}\n",
    "$$"
   ]
  },
  {
   "cell_type": "markdown",
   "metadata": {},
   "source": [
    "So, if the function $\\Lambda-1$ is positive, then the ratio of the derivatives has the same properties as the function $(1-t_e-\\Lambda t_e)^{1-\\alpha}$. Obviously, then we have $f(x)$ is monotone increasing if $\\Lambda-1>0$.\n",
    "\n",
    "But it is also true if $\\Lambda-1<0$ but $\\frac{\\Lambda}{\\alpha}>0$. In this case, the whole expression is negative, and as $t_e$ gets bigger the numerator gets smaller, so the whole expression is monotone increasing, because it is getting less negative. \n",
    "\n",
    "Finally, if both $\\Lambda-1<0$ but $\\frac{\\Lambda}{\\alpha}<0$, we now have a monotone decreasing function. It is positive and shrinking in $t_e$. \n"
   ]
  },
  {
   "cell_type": "markdown",
   "metadata": {},
   "source": [
    "# Second derivatives\n",
    "\n",
    "These tricks can also work on the second derivative, where we can see if the first derivative is increasing or decreasing monotonically, which is like figuring out the sign of the second derivative. Anyways, we have the derivative of $s$ as:\n",
    "\n",
    "$$\n",
    "s' = \\frac{\\frac{\\Lambda}{\\alpha}-1}{(1-t_e+\\Lambda t_e)^\\alpha} - \\alpha(\\Lambda-1)\\frac{1-t_e+\\frac{\\Lambda}{\\alpha}t_e}{(1-t_e+\\Lambda t_e)^{\\alpha+1}}\n",
    "$$\n",
    "\n",
    "which can also be written as:\n",
    "\n",
    "$$\n",
    "s' = \\frac{(1-t_e+\\Lambda t_e)\\left(\\frac{\\Lambda}{\\alpha}-1\\right)- \\alpha(\\Lambda-1)\\left(1-t_e+\\frac{\\Lambda}{\\alpha}t_e\\right)}{(1-t_e+\\Lambda t_e)^{\\alpha+1}}\n",
    "$$\n",
    "\n",
    "Once again, we have a quotient of a linear function and now what seems to be a convex function. So, the ratio of the derivatives of the numerator and the denominator are:\n",
    "\n",
    "$$\n",
    "\\frac{f'(x)}{g'(x)}=\\frac{(\\Lambda-1)\\left(\\frac{\\Lambda}{\\alpha}-1\\right)- \\alpha(\\Lambda-1)\\left(\\frac{\\Lambda}{\\alpha}-1\\right)}{(1+\\alpha)(\\Lambda-1)(1-t_e+\\Lambda t_e)^{\\alpha}}\n",
    "$$"
   ]
  },
  {
   "cell_type": "markdown",
   "metadata": {},
   "source": [
    "This simplifies to:\n",
    "\n",
    "$$\n",
    "\\frac{(1-\\alpha)\\left(\\frac{\\Lambda}{\\alpha}-1\\right)}{(1+\\alpha)(1-t_e+\\Lambda t_e)^{\\alpha}}\n",
    "$$"
   ]
  },
  {
   "cell_type": "markdown",
   "metadata": {},
   "source": [
    "Once again, we see that if $\\Lambda>1$, and $\\frac{\\Lambda}{\\alpha}>1$, the derivative is monotone decreasing. When $\\Lambda<1$, but $\\frac{\\Lambda}{\\alpha}>1$, we see that $s'$ is monotone increasing, as now $t_e$ growing larger makes the denominator smaller. If however, $\\frac{\\Lambda}{\\alpha}<1$, we have a negative quantity, and a shrinking denominator, which means the derivative is rapidly growing more negative. \n",
    "\n",
    "Coupled with the above results, we have:\n",
    "\n",
    "- $\\Lambda>1$, and $\\frac{\\Lambda}{\\alpha}>1$: $s'>0,s''<0$. \n",
    "- $\\Lambda<1$, and $\\frac{\\Lambda}{\\alpha}>1$: $s'>0, s''>0$. \n",
    "- $\\Lambda<1$, and $\\frac{\\Lambda}{\\alpha}<1$. $s'<0, s''<0$.\n",
    "\n",
    "The properties of the function can now be used to prove things about when it is optimal to enclose land. \n"
   ]
  },
  {
   "cell_type": "markdown",
   "metadata": {},
   "source": []
  },
  {
   "cell_type": "code",
   "execution_count": null,
   "metadata": {},
   "outputs": [],
   "source": []
  }
 ],
 "metadata": {
  "kernelspec": {
   "display_name": "Python 3",
   "language": "python",
   "name": "python3"
  },
  "language_info": {
   "codemirror_mode": {
    "name": "ipython",
    "version": 3
   },
   "file_extension": ".py",
   "mimetype": "text/x-python",
   "name": "python",
   "nbconvert_exporter": "python",
   "pygments_lexer": "ipython3",
   "version": "3.7.3"
  }
 },
 "nbformat": 4,
 "nbformat_minor": 2
}
