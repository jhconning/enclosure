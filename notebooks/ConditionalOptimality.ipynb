{
 "cells": [
  {
   "cell_type": "markdown",
   "metadata": {},
   "source": [
    "# The shape of aggregate production with conditional optimality\n",
    "\n",
    "The key function is the following one:\n",
    "\n",
    "$$\n",
    "s(t_e) = \\frac{1-t_e+\\frac{\\Lambda}{\\alpha}t_e}{(1-t_e+\\Lambda t_e)^\\alpha}\n",
    "$$\n",
    "\n",
    "where $\\Lambda = (\\alpha\\theta)^\\frac{1}{1-\\alpha}$. This is where the condition $\\theta > \\frac{1}{\\alpha}$ comes from. It figures into the total output function, which is:\n",
    "\n",
    "$$\n",
    "Y=\\bar T^{1-\\alpha} \\bar L^\\alpha s(t_e) - ct_eT\n",
    "$$\n",
    "\n",
    "If we want to study optimal allocations, we need to know the shape of $Y$, which depends wholly on the shape of $s(t_e)$. The easiest way to uncover all of these properties is to apply l'Hopital's Monotone Rule (Anderson, Vamanamurthy, and Vuorinen (2006)) to get all the results. It says:\n",
    "\n",
    "_If $f(x)$ and $g(x)$ are well-defined and continuous on an interval $(a,b)$, and $\\frac{f'(x)}{g'(x)}$ is monotone increasing (decreasing), then so is $\\frac{f(x)}{g(x)}.$_\n",
    "\n",
    "Take\n",
    "\n",
    "$$\n",
    "f(x) = 1-t_e+\\frac{\\Lambda}{\\alpha}t_e,\\quad g(x)=(1-t_e+\\Lambda t_e)^\\alpha\n",
    "$$\n",
    "\n",
    "The advantage of this is that the numerator is usually linear, so the derivative is a constant and one can clearly see the properties of $s(t_e)$. "
   ]
  },
  {
   "cell_type": "markdown",
   "metadata": {},
   "source": [
    "So, in this instance, we have:\n",
    "\n",
    "$$\n",
    "\\frac{f'(x)}{g'(x)}= \\frac{\\frac{\\Lambda}{\\alpha}-1}{(\\Lambda-1)\\alpha(1-t_e+\\Lambda t_e)^{\\alpha-1}}=\\frac{1}{\\alpha}\\left(\\frac{\\Lambda}{\\alpha}-1\\right)\\frac{(1-t_e+\\Lambda t_e)^{1-\\alpha}}{\\Lambda-1}\n",
    "$$"
   ]
  },
  {
   "cell_type": "markdown",
   "metadata": {},
   "source": [
    "So, if the function $\\Lambda-1$ is positive, then the ratio of the derivatives has the same properties as the function $(1-t_e-\\Lambda t_e)^{1-\\alpha}$. Obviously, then we have $f(x)$ is monotone increasing if $\\Lambda-1>0$.\n",
    "\n",
    "But it is also true if $\\Lambda-1<0$ but $\\frac{\\Lambda}{\\alpha}>0$. In this case, the whole expression is negative, and as $t_e$ gets bigger the numerator gets smaller, so the whole expression is monotone increasing, because it is getting less negative. \n",
    "\n",
    "Finally, if both $\\Lambda-1<0$ but $\\frac{\\Lambda}{\\alpha}<0$, we now have a monotone decreasing function. It is positive and shrinking in $t_e$. \n"
   ]
  },
  {
   "cell_type": "markdown",
   "metadata": {},
   "source": [
    "# Second derivatives\n",
    "\n",
    "These tricks can also work on the second derivative, where we can see if the first derivative is increasing or decreasing monotonically, which is like figuring out the sign of the second derivative. Anyways, we have the derivative of $s$ as:\n",
    "\n",
    "$$\n",
    "s' = \\frac{\\frac{\\Lambda}{\\alpha}-1}{(1-t_e+\\Lambda t_e)^\\alpha} - \\alpha(\\Lambda-1)\\frac{1-t_e+\\frac{\\Lambda}{\\alpha}t_e}{(1-t_e+\\Lambda t_e)^{\\alpha+1}}\n",
    "$$\n",
    "\n",
    "which can also be written as:\n",
    "\n",
    "$$\n",
    "s' = \\frac{(1-t_e+\\Lambda t_e)\\left(\\frac{\\Lambda}{\\alpha}-1\\right)- \\alpha(\\Lambda-1)\\left(1-t_e+\\frac{\\Lambda}{\\alpha}t_e\\right)}{(1-t_e+\\Lambda t_e)^{\\alpha+1}}\n",
    "$$\n",
    "\n",
    "Once again, we have a quotient of a linear function and now what seems to be a convex function. So, the ratio of the derivatives of the numerator and the denominator are:\n",
    "\n",
    "$$\n",
    "\\frac{f'(x)}{g'(x)}=\\frac{(\\Lambda-1)\\left(\\frac{\\Lambda}{\\alpha}-1\\right)- \\alpha(\\Lambda-1)\\left(\\frac{\\Lambda}{\\alpha}-1\\right)}{(1+\\alpha)(\\Lambda-1)(1-t_e+\\Lambda t_e)^{\\alpha}}\n",
    "$$"
   ]
  },
  {
   "cell_type": "markdown",
   "metadata": {},
   "source": [
    "This simplifies to:\n",
    "\n",
    "$$\n",
    "\\frac{(1-\\alpha)\\left(\\frac{\\Lambda}{\\alpha}-1\\right)}{(1+\\alpha)(1-t_e+\\Lambda t_e)^{\\alpha}}\n",
    "$$"
   ]
  },
  {
   "cell_type": "markdown",
   "metadata": {},
   "source": [
    "Once again, we see that if $\\Lambda>1$, and $\\frac{\\Lambda}{\\alpha}>1$, the derivative is monotone decreasing. When $\\Lambda<1$, but $\\frac{\\Lambda}{\\alpha}>1$, we see that $s'$ is monotone increasing, as now $t_e$ growing larger makes the denominator smaller. If however, $\\frac{\\Lambda}{\\alpha}<1$, we have a negative quantity, and a shrinking denominator, which means the derivative is rapidly growing more negative. \n",
    "\n",
    "Coupled with the above results, we have:\n",
    "\n",
    "- $\\Lambda>1$, and $\\frac{\\Lambda}{\\alpha}>1$: $s'>0,s''<0$. \n",
    "- $\\Lambda<1$, and $\\frac{\\Lambda}{\\alpha}>1$: $s'>0, s''>0$. \n",
    "- $\\Lambda<1$, and $\\frac{\\Lambda}{\\alpha}<1$. $s'<0, s''<0$.\n",
    "\n",
    "The properties of the function can now be used to prove things about when it is optimal to enclose land. \n"
   ]
  },
  {
   "cell_type": "markdown",
   "metadata": {},
   "source": [
    "To wit, in the first case, we can check derivatives. In the second, we can check endpoints, while in the third case, we can just conclude enclosure just makes things worse! So, we have: "
   ]
  },
  {
   "cell_type": "code",
   "execution_count": 5,
   "metadata": {},
   "outputs": [],
   "source": [
    "from sympy import *\n",
    "\n",
    "init_printing()"
   ]
  },
  {
   "cell_type": "code",
   "execution_count": 35,
   "metadata": {},
   "outputs": [],
   "source": [
    "alpha, Lambda, theta, te, c, T, L, p = symbols('alpha Lambda theta t_e c T L p')"
   ]
  },
  {
   "cell_type": "code",
   "execution_count": 18,
   "metadata": {},
   "outputs": [
    {
     "data": {
      "image/png": "[encoded data removed]",
      "text/latex": [
       "$$L^{\\alpha} T^{- \\alpha + 1} \\left(\\Lambda t_{e} - t_{e} + 1\\right)^{- \\alpha} \\left(\\frac{\\Lambda t_{e}}{\\alpha} - t_{e} + 1\\right) - T c t_{e}$$"
      ],
      "text/plain": [
       " α  -α + 1                -α ⎛Λ⋅tₑ         ⎞         \n",
       "L ⋅T      ⋅(Λ⋅tₑ - tₑ + 1)  ⋅⎜──── - tₑ + 1⎟ - T⋅c⋅tₑ\n",
       "                             ⎝ α           ⎠         "
      ]
     },
     "execution_count": 18,
     "metadata": {},
     "output_type": "execute_result"
    }
   ],
   "source": [
    "Y = T**(1-alpha)*L**alpha* (1-te+Lambda/alpha*te) /  (1-te+Lambda*te)**alpha-c*te*T\n",
    "Y"
   ]
  },
  {
   "cell_type": "markdown",
   "metadata": {},
   "source": [
    "It helps along the software if we rewrite this in intensive form, (dropping the multiplicative constant $T$):"
   ]
  },
  {
   "cell_type": "code",
   "execution_count": 21,
   "metadata": {},
   "outputs": [
    {
     "data": {
      "image/png": "[encoded data removed]",
      "text/latex": [
       "$$- c t_{e} + p^{\\alpha} \\left(\\Lambda t_{e} - t_{e} + 1\\right)^{- \\alpha} \\left(\\frac{\\Lambda t_{e}}{\\alpha} - t_{e} + 1\\right)$$"
      ],
      "text/plain": [
       "         α                -α ⎛Λ⋅tₑ         ⎞\n",
       "-c⋅tₑ + p ⋅(Λ⋅tₑ - tₑ + 1)  ⋅⎜──── - tₑ + 1⎟\n",
       "                             ⎝ α           ⎠"
      ]
     },
     "execution_count": 21,
     "metadata": {},
     "output_type": "execute_result"
    }
   ],
   "source": [
    "Y = p**alpha* (1-te+Lambda/alpha*te) /  (1-te+Lambda*te)**alpha - c*te\n",
    "Y"
   ]
  },
  {
   "cell_type": "markdown",
   "metadata": {},
   "source": [
    "The derivative of this expression is: "
   ]
  },
  {
   "cell_type": "code",
   "execution_count": 23,
   "metadata": {},
   "outputs": [
    {
     "data": {
      "image/png": "[encoded data removed]",
      "text/latex": [
       "$$- \\frac{\\alpha p^{\\alpha} \\left(\\Lambda - 1\\right) \\left(\\Lambda t_{e} - t_{e} + 1\\right)^{- \\alpha} \\left(\\frac{\\Lambda t_{e}}{\\alpha} - t_{e} + 1\\right)}{\\Lambda t_{e} - t_{e} + 1} - c + p^{\\alpha} \\left(\\frac{\\Lambda}{\\alpha} - 1\\right) \\left(\\Lambda t_{e} - t_{e} + 1\\right)^{- \\alpha}$$"
      ],
      "text/plain": [
       "     α                        -α ⎛Λ⋅tₑ         ⎞                              \n",
       "  α⋅p ⋅(Λ - 1)⋅(Λ⋅tₑ - tₑ + 1)  ⋅⎜──── - tₑ + 1⎟                              \n",
       "                                 ⎝ α           ⎠        α ⎛Λ    ⎞             \n",
       "- ────────────────────────────────────────────── - c + p ⋅⎜─ - 1⎟⋅(Λ⋅tₑ - tₑ +\n",
       "                  Λ⋅tₑ - tₑ + 1                           ⎝α    ⎠             \n",
       "\n",
       "     \n",
       "     \n",
       "   -α\n",
       " 1)  \n",
       "     "
      ]
     },
     "execution_count": 23,
     "metadata": {},
     "output_type": "execute_result"
    }
   ],
   "source": [
    "Yp = diff(Y, te)\n",
    "Yp"
   ]
  },
  {
   "cell_type": "markdown",
   "metadata": {},
   "source": [
    "The values at zero and one are:"
   ]
  },
  {
   "cell_type": "code",
   "execution_count": 24,
   "metadata": {},
   "outputs": [
    {
     "data": {
      "image/png": "[encoded data removed]",
      "text/latex": [
       "$$\\left ( \\frac{- \\alpha \\left(\\alpha p^{\\alpha} \\left(\\Lambda - 1\\right) + c\\right) + p^{\\alpha} \\left(\\Lambda - \\alpha\\right)}{\\alpha}, \\quad - \\Lambda \\Lambda^{- \\alpha} p^{\\alpha} + \\frac{\\Lambda \\Lambda^{- \\alpha} p^{\\alpha}}{\\alpha} - c\\right )$$"
      ],
      "text/plain": [
       "⎛    ⎛   α            ⎞    α                          -α  α    ⎞\n",
       "⎜- α⋅⎝α⋅p ⋅(Λ - 1) + c⎠ + p ⋅(Λ - α)       -α  α   Λ⋅Λ  ⋅p     ⎟\n",
       "⎜───────────────────────────────────, - Λ⋅Λ  ⋅p  + ──────── - c⎟\n",
       "⎝                 α                                   α        ⎠"
      ]
     },
     "execution_count": 24,
     "metadata": {},
     "output_type": "execute_result"
    }
   ],
   "source": [
    "Yp0 = Yp.subs({te:0}).simplify()\n",
    "Yp1 = Yp.subs({te:1}).simplify()\n",
    "Yp0, Yp1"
   ]
  },
  {
   "cell_type": "markdown",
   "metadata": {},
   "source": [
    "So, our \"start enclosing\" locus and our \"finish enclosing\" locus are (once again, if the circumstances of the first item on the list hold:"
   ]
  },
  {
   "cell_type": "code",
   "execution_count": 28,
   "metadata": {},
   "outputs": [
    {
     "data": {
      "image/png": "[encoded data removed]",
      "text/latex": [
       "$$\\left ( \\left(- \\frac{\\alpha c}{\\left(\\alpha - 1\\right) \\left(\\Lambda \\alpha + \\Lambda - \\alpha\\right)}\\right)^{\\frac{1}{\\alpha}}, \\quad \\left(- \\frac{\\Lambda^{\\alpha - 1} \\alpha c}{\\alpha - 1}\\right)^{\\frac{1}{\\alpha}}\\right )$$"
      ],
      "text/plain": [
       "⎛                                        ______________⎞\n",
       "⎜       _______________________         ╱   α - 1      ⎟\n",
       "⎜      ╱         -α⋅c                  ╱  -Λ     ⋅α⋅c  ⎟\n",
       "⎜alpha╱  ───────────────────── , alpha╱   ──────────── ⎟\n",
       "⎝   ╲╱   (α - 1)⋅(Λ⋅α + Λ - α)      ╲╱       α - 1     ⎠"
      ]
     },
     "execution_count": 28,
     "metadata": {},
     "output_type": "execute_result"
    }
   ],
   "source": [
    "solve(Yp0, p)[0], solve(Yp1, p)[0]"
   ]
  },
  {
   "cell_type": "markdown",
   "metadata": {},
   "source": [
    "Now, if the circumstances (2) on the list hold, then we just look at endpoints. We form:"
   ]
  },
  {
   "cell_type": "code",
   "execution_count": 31,
   "metadata": {},
   "outputs": [
    {
     "data": {
      "image/png": "[encoded data removed]",
      "text/latex": [
       "$$\\frac{\\Lambda \\Lambda^{- \\alpha} p^{\\alpha}}{\\alpha} - c - p^{\\alpha}$$"
      ],
      "text/plain": [
       "   -α  α         \n",
       "Λ⋅Λ  ⋅p         α\n",
       "──────── - c - p \n",
       "   α             "
      ]
     },
     "execution_count": 31,
     "metadata": {},
     "output_type": "execute_result"
    }
   ],
   "source": [
    "dY = Y.subs({te:1}) - Y.subs({te:0})\n",
    "dY"
   ]
  },
  {
   "cell_type": "code",
   "execution_count": 33,
   "metadata": {},
   "outputs": [
    {
     "data": {
      "image/png": "[encoded data removed]",
      "text/latex": [
       "$$\\left(\\frac{\\Lambda^{\\alpha} \\alpha c}{\\Lambda - \\Lambda^{\\alpha} \\alpha}\\right)^{\\frac{1}{\\alpha}}$$"
      ],
      "text/plain": [
       "         __________\n",
       "        ╱   α      \n",
       "       ╱   Λ ⋅α⋅c  \n",
       "      ╱   ──────── \n",
       "alpha╱         α   \n",
       "   ╲╱     Λ - Λ ⋅α "
      ]
     },
     "execution_count": 33,
     "metadata": {},
     "output_type": "execute_result"
    }
   ],
   "source": [
    "solve(dY, p)[0]"
   ]
  },
  {
   "cell_type": "markdown",
   "metadata": {},
   "source": [
    "# First best, unconditional optimality\n",
    "\n",
    "Now, we recall in our previous exposition that we didn't have these problems when labor was allocated optimally across uses, but let's add this in and get an \"optimal\" diagram. In this case, output was:"
   ]
  },
  {
   "cell_type": "code",
   "execution_count": 37,
   "metadata": {},
   "outputs": [
    {
     "data": {
      "image/png": "[encoded data removed]",
      "text/latex": [
       "$$- c t_{e} + p \\left(t_{e} \\left(\\theta^{\\frac{1}{- \\alpha + 1}} - 1\\right) + 1\\right)^{- \\alpha + 1}$$"
      ],
      "text/plain": [
       "                                -α + 1\n",
       "          ⎛   ⎛   1       ⎞    ⎞      \n",
       "          ⎜   ⎜ ──────    ⎟    ⎟      \n",
       "          ⎜   ⎜ -α + 1    ⎟    ⎟      \n",
       "-c⋅tₑ + p⋅⎝tₑ⋅⎝θ       - 1⎠ + 1⎠      "
      ]
     },
     "execution_count": 37,
     "metadata": {},
     "output_type": "execute_result"
    }
   ],
   "source": [
    "Yfb = p*((theta**(1/(1-alpha))-1 )*te + 1)**(1-alpha) - c*te\n",
    "Yfb"
   ]
  },
  {
   "cell_type": "code",
   "execution_count": 39,
   "metadata": {},
   "outputs": [
    {
     "data": {
      "image/png": "[encoded data removed]",
      "text/latex": [
       "$$- c + \\frac{p \\left(- \\alpha + 1\\right) \\left(\\theta^{\\frac{1}{- \\alpha + 1}} - 1\\right) \\left(t_{e} \\left(\\theta^{\\frac{1}{- \\alpha + 1}} - 1\\right) + 1\\right)^{- \\alpha + 1}}{t_{e} \\left(\\theta^{\\frac{1}{- \\alpha + 1}} - 1\\right) + 1}$$"
      ],
      "text/plain": [
       "                                                    -α + 1\n",
       "                ⎛   1       ⎞ ⎛   ⎛   1       ⎞    ⎞      \n",
       "                ⎜ ──────    ⎟ ⎜   ⎜ ──────    ⎟    ⎟      \n",
       "                ⎜ -α + 1    ⎟ ⎜   ⎜ -α + 1    ⎟    ⎟      \n",
       "     p⋅(-α + 1)⋅⎝θ       - 1⎠⋅⎝tₑ⋅⎝θ       - 1⎠ + 1⎠      \n",
       "-c + ─────────────────────────────────────────────────────\n",
       "                         ⎛   1       ⎞                    \n",
       "                         ⎜ ──────    ⎟                    \n",
       "                         ⎜ -α + 1    ⎟                    \n",
       "                      tₑ⋅⎝θ       - 1⎠ + 1                "
      ]
     },
     "execution_count": 39,
     "metadata": {},
     "output_type": "execute_result"
    }
   ],
   "source": [
    "Yfbp = diff(Yfb, te)\n",
    "Yfbp"
   ]
  },
  {
   "cell_type": "markdown",
   "metadata": {},
   "source": [
    "Using the previous ideas - because $Y$ here is unambiguously concave, we have:"
   ]
  },
  {
   "cell_type": "code",
   "execution_count": 43,
   "metadata": {},
   "outputs": [
    {
     "data": {
      "image/png": "[encoded data removed]",
      "text/latex": [
       "$$\\left ( \\frac{c \\theta^{\\frac{1}{\\alpha - 1}}}{- \\alpha + \\theta^{\\frac{1}{\\alpha - 1}} \\left(\\alpha - 1\\right) + 1}, \\quad \\frac{c \\left(\\theta^{- \\frac{1}{\\alpha - 1}}\\right)^{\\alpha - 1}}{- \\alpha + \\theta^{\\frac{1}{\\alpha - 1}} \\left(\\alpha - 1\\right) + 1}\\right )$$"
      ],
      "text/plain": [
       "⎛                                       α - 1    ⎞\n",
       "⎜             1                 ⎛  -1  ⎞         ⎟\n",
       "⎜           ─────               ⎜ ─────⎟         ⎟\n",
       "⎜           α - 1               ⎜ α - 1⎟         ⎟\n",
       "⎜        c⋅θ                  c⋅⎝θ     ⎠         ⎟\n",
       "⎜───────────────────────, ───────────────────────⎟\n",
       "⎜        1                        1              ⎟\n",
       "⎜      ─────                    ─────            ⎟\n",
       "⎜      α - 1                    α - 1            ⎟\n",
       "⎝-α + θ     ⋅(α - 1) + 1  -α + θ     ⋅(α - 1) + 1⎠"
      ]
     },
     "execution_count": 43,
     "metadata": {},
     "output_type": "execute_result"
    }
   ],
   "source": [
    "Yfbp0 = Yfbp.subs({te:0})\n",
    "Yfbp1 = Yfbp.subs({te:1})\n",
    "solve(Yfbp0, p)[0].simplify(), solve(Yfbp1, p)[0].simplify()"
   ]
  },
  {
   "cell_type": "markdown",
   "metadata": {},
   "source": [
    "## Graph for inclusion in the paper\n",
    "\n",
    "Let's make a graph of all of this..."
   ]
  },
  {
   "cell_type": "code",
   "execution_count": 44,
   "metadata": {},
   "outputs": [],
   "source": [
    "import numpy as np\n",
    "import matplotlib.pyplot as plt"
   ]
  },
  {
   "cell_type": "code",
   "execution_count": 81,
   "metadata": {},
   "outputs": [
    {
     "data": {
      "image/png": "[encoded data removed]",
      "text/plain": [
       "<Figure size 720x576 with 1 Axes>"
      ]
     },
     "metadata": {
      "needs_background": "light"
     },
     "output_type": "display_data"
    }
   ],
   "source": [
    "##### Base parameters  #####\n",
    "\n",
    "c        = 1\n",
    "alp      = 3/4\n",
    "\n",
    "theta_crit1 = 1 / alp\n",
    "theta_crit2 = 1 / alp**alp\n",
    "\n",
    "##### Truncated ranges applicable only at certain points ####\n",
    "\n",
    "thetar1 = np.arange(theta_crit1, 1.15*theta_crit1, .01)\n",
    "thetar2 = np.arange(theta_crit2, theta_crit1+.001, .001) \n",
    "\n",
    "Lamr1 = (alp*thetar1)**(1/(1 - alp))\n",
    "Lamr2 = (alp*thetar2)**(1/(1-  alp))\n",
    "\n",
    "pr1s   = ( alp*c / ( (1-alp) * (Lamr1*alp + Lamr1 - alp) ) )**(1/alp)\n",
    "pr1e   = ( alp*c / ( (1-alp) * Lamr1**(1-alp)))**(1/alp)\n",
    "\n",
    "fig, ax = plt.subplots(figsize=(10, 8))\n",
    "\n",
    "oline1 = ax.plot(thetar1, pr1s, color='orange')\n",
    "bline1 = ax.plot(thetar1, pr1e, color='blue')\n",
    "\n",
    "gline1  = ax.axvline(theta_crit1, color= 'green', linestyle=':')\n",
    "\n",
    "##### Conditions when increasing...are as follows #####\n",
    "\n",
    "pr2    = ( Lamr2**alp * alp* c / (Lamr2 - Lamr2**alp*alp) ) ** (1/alp)\n",
    "bline2 = ax.plot(thetar2, pr2, color='blue')\n",
    "\n",
    "gline2  = ax.axvline(theta_crit2, color='green', linestyle=':')\n",
    "bline25 = ax.vlines(theta_crit2, np.max(pr2), np.max(pr2) + 4, color='blue', )\n",
    "\n",
    "### Add in lines for unconditional optimality ###\n",
    "\n",
    "theta_fb = theta_crit2 - .075\n",
    "\n",
    "theta_fbr = np.arange(theta_fb, 1.15*theta_crit1, .01)\n",
    "prfbs = (c*theta_fbr**(1/(alp-1)) / ((1-alp)*(1-theta_fbr**(1/(alp-1))) ) )**(1/alp)\n",
    "prfbe = ( (c / theta_fbr) / ((1-alp)*(1-theta_fbr**(1/(alp-1))) ) )**(1/alp)\n",
    "\n",
    "\n",
    "\n",
    "rline1 = ax.plot(theta_fbr, prfbs, color='red')\n",
    "rline2 = ax.plot(theta_fbr, prfbe, color='green')"
   ]
  },
  {
   "cell_type": "code",
   "execution_count": 57,
   "metadata": {},
   "outputs": [
    {
     "data": {
      "image/png": "[encoded data removed]",
      "text/plain": [
       "<Figure size 720x576 with 1 Axes>"
      ]
     },
     "metadata": {
      "needs_background": "light"
     },
     "output_type": "display_data"
    }
   ],
   "source": [
    "##### Base parameters  #####\n",
    "\n",
    "c          = 1\n",
    "alpha      = 3/5\n",
    "theta_star = 1/alpha\n",
    "\n",
    "##### Automated ranges #####\n",
    "\n",
    "thetar1 = np.arange(theta_star, 1.5*theta_star, .01)\n",
    "thetar2 = np.arange(theta_star*.7, theta_star, .01)\n",
    "\n",
    "##### plot functions   #####\n",
    "\n",
    "def p1(T, C, Alpha):\n",
    "    return (C / ((1-Alpha) * T))**(1/Alpha)  /  (Alpha*T)**(1/(1-Alpha))\n",
    "    \n",
    "def p2(T, C, Alpha):\n",
    "    return (C / ((1-Alpha) * T))**(1/Alpha)  \n",
    "\n",
    "def gg(T, C, Alpha):\n",
    "    return ( (C/T)*((Alpha*T)**(1/(1-Alpha)) - 1)/((Alpha*T)**(1/(1-Alpha)) - (Alpha*T)**(Alpha/(1-Alpha))) ) **(1/Alpha)\n",
    "\n",
    "p1_1 = p1(thetar1, c, alpha)\n",
    "p2_1 = p2(thetar1, c, alpha)\n",
    "\n",
    "p1_2 = p1(thetar2, c, alpha)\n",
    "p2_2 = p2(thetar2, c, alpha)\n",
    "\n",
    "gg_2 = gg(thetar2, c, alpha)\n",
    "\n",
    "fig, ax = plt.subplots(figsize=(10, 8))\n",
    "bline1 = ax.plot(thetar1, p1_1, color='blue')\n",
    "oline1 = ax.plot(thetar1, p2_1, color='orange')\n",
    "\n",
    "bline2 = ax.plot(thetar2, p2_2, color='blue')\n",
    "oline2 = ax.plot(thetar2, p1_2, color='orange')\n",
    "\n",
    "### Lines marking costs and lines marking critical theta\n",
    "\n",
    "rline = ax.axhline(c, color = 'red', linestyle=':')\n",
    "gline = ax.axvline(theta_star, color= 'green', linestyle=':')\n",
    "\n",
    "ggline = ax.plot(thetar2, gg_2, c, alpha, linestyle='--')\n",
    "\n",
    "text1 = ax.text(theta_star*(1.1), c+2, 'Full enclosure')\n",
    "text2 = ax.text(2, c, 'Partial enclosure')\n",
    "text3 = ax.text(theta_star*.9, c, 'No enclosure')\n",
    "text4 = ax.text(1.3, 3, 'Multiplicity', rotation=-45)\n",
    "\n",
    "xlab = ax.set_xlabel(r'Relative TFP in Enclosed Sector ($\\theta$)')\n",
    "ylab = ax.set_ylabel('Labor/Land Ratio (p)')"
   ]
  },
  {
   "cell_type": "markdown",
   "metadata": {},
   "source": [
    "I am a little freaked out by my analysis above...it doesn't seem quite right. So, what if we redo this using more standard methods? Recall our $Y$ function is:"
   ]
  },
  {
   "cell_type": "code",
   "execution_count": 83,
   "metadata": {},
   "outputs": [],
   "source": [
    "alpha, Lambda, theta, te, c, T, L, p = symbols('alpha Lambda theta t_e c T L p')"
   ]
  },
  {
   "cell_type": "code",
   "execution_count": 90,
   "metadata": {},
   "outputs": [
    {
     "data": {
      "image/png": "[encoded data removed]",
      "text/latex": [
       "$$p^{\\alpha} \\left(\\Lambda t_{e} - t_{e} + 1\\right)^{- \\alpha} \\left(\\frac{\\Lambda t_{e}}{\\alpha} - t_{e} + 1\\right)$$"
      ],
      "text/plain": [
       " α                -α ⎛Λ⋅tₑ         ⎞\n",
       "p ⋅(Λ⋅tₑ - tₑ + 1)  ⋅⎜──── - tₑ + 1⎟\n",
       "                     ⎝ α           ⎠"
      ]
     },
     "execution_count": 90,
     "metadata": {},
     "output_type": "execute_result"
    }
   ],
   "source": [
    "Y = p**alpha* (1-te+Lambda/alpha*te) /  (1-te+Lambda*te)**alpha #- c*te\n",
    "Y"
   ]
  },
  {
   "cell_type": "markdown",
   "metadata": {},
   "source": [
    "Even simpler..."
   ]
  },
  {
   "cell_type": "code",
   "execution_count": 94,
   "metadata": {},
   "outputs": [
    {
     "data": {
      "image/png": "[encoded data removed]",
      "text/latex": [
       "$$\\left(\\Lambda t_{e} - t_{e} + 1\\right)^{- \\alpha} \\left(\\frac{\\Lambda t_{e}}{\\alpha} - t_{e} + 1\\right)$$"
      ],
      "text/plain": [
       "               -α ⎛Λ⋅tₑ         ⎞\n",
       "(Λ⋅tₑ - tₑ + 1)  ⋅⎜──── - tₑ + 1⎟\n",
       "                  ⎝ α           ⎠"
      ]
     },
     "execution_count": 94,
     "metadata": {},
     "output_type": "execute_result"
    }
   ],
   "source": [
    "kt = (1-te+Lambda/alpha*te) /  (1-te+Lambda*te)**alpha\n",
    "kt"
   ]
  },
  {
   "cell_type": "code",
   "execution_count": 97,
   "metadata": {},
   "outputs": [
    {
     "data": {
      "image/png": "[encoded data removed]",
      "text/latex": [
       "$$\\left [ \\frac{- \\Lambda \\alpha - \\Lambda + \\alpha}{\\Lambda^{2} - \\Lambda \\alpha - \\Lambda + \\alpha}\\right ]$$"
      ],
      "text/plain": [
       "⎡  -Λ⋅α - Λ + α  ⎤\n",
       "⎢────────────────⎥\n",
       "⎢ 2              ⎥\n",
       "⎣Λ  - Λ⋅α - Λ + α⎦"
      ]
     },
     "execution_count": 97,
     "metadata": {},
     "output_type": "execute_result"
    }
   ],
   "source": [
    "solve(diff(kt, te), te)"
   ]
  },
  {
   "cell_type": "markdown",
   "metadata": {},
   "source": [
    "Let's just do a gut assessment. So, look at $Y$ again (land-intensive form):"
   ]
  },
  {
   "cell_type": "markdown",
   "metadata": {},
   "source": [
    "$$\n",
    "Y = p^\\alpha \\frac{1-t_e+\\frac{\\Lambda}{\\alpha}t_e}{(1-t_e+\\Lambda t_e)^\\alpha} - ct_e\n",
    "$$\n"
   ]
  },
  {
   "cell_type": "markdown",
   "metadata": {},
   "source": [
    "We have already decided that the keys to this function is determining when $\\Lambda>\\alpha$ and $\\Lambda>1$. In terms of our base parameters, these are $\\theta > \\frac{1}{\\alpha^\\alpha}$ and $\\theta > \\frac{1}{\\alpha}$. \n",
    "\n",
    "If it is the case that if $\\theta > \\frac{1}{\\alpha}$, then it must be the case that $\\theta > \\frac{1}{\\alpha^\\alpha}$. For example, if $\\alpha=.5$, then $\\frac{1}{\\alpha}=2$, and $\\frac{1}{\\alpha^\\alpha}=\\sqrt{2}$. \n",
    "\n",
    "### Part one\n",
    "\n",
    "Now, if it is the case that $\\frac{\\Lambda}{\\alpha} > 1$ ($\\theta > \\frac{1}{\\alpha^\\alpha}$), and that $\\Lambda > 1$ ($\\theta > \\frac{1}{\\alpha})$, the numerator increases in linear fashion, while the denominator increases but at a slower rate. Therefore, $Y$ is increasing at a decreasing rate - $Y$ is generically concave as a function of. Therefore, we can check the conditions using derivatives. If the derivative is positive at $t_e=0$, then some enclosure should occur. If it is still positive at $t_e=1$, then full enclosure should occur.  \n",
    "\n",
    "### Part two\n",
    "\n",
    "Now, suppose that $\\frac{\\Lambda}{\\alpha} > 1$ ($\\theta > \\frac{1}{\\alpha^\\alpha}$) but that $\\Lambda < 1$. ($\\theta < \\frac{1}{\\alpha})$. Now, we see that the numerator of $Y$ is increasing in $t_e$, and the denominator is decreasing in $t_e$. This means that $Y$ is convex in $t_e$. In these circumstances, we will have either complete enclosure or none at all...and we have to check the endpoints. \n",
    "\n",
    "### Part three\n",
    "\n",
    "What if both our inequalities are violated? I don't think this really matters...in these circumstances, both the numerator and the denominator are decreasing, but is the whole function increasing or not? It looks like in these cases there is always a point at which things go down and then up...\n"
   ]
  },
  {
   "cell_type": "code",
   "execution_count": 109,
   "metadata": {},
   "outputs": [
    {
     "data": {
      "image/png": "[encoded data removed]",
      "text/plain": [
       "<Figure size 432x288 with 1 Axes>"
      ]
     },
     "metadata": {
      "needs_background": "light"
     },
     "output_type": "display_data"
    }
   ],
   "source": [
    "def Y(t, T=1, p=12, c=1, a=1/2):\n",
    "    \n",
    "    lam = a*T**(1/(1-a))\n",
    "    return p**a*(1 +lam/a*t-t ) / (1 + lam*t - t)**a - c*t\n",
    "    print(lam, lam/a)\n",
    "\n",
    "tt = np.arange(0, 1, .01)\n",
    "\n",
    "Yt = Y(tt, 1)\n",
    "pud = plt.plot(tt, Yt)"
   ]
  },
  {
   "cell_type": "code",
   "execution_count": null,
   "metadata": {},
   "outputs": [],
   "source": []
  }
 ],
 "metadata": {
  "kernelspec": {
   "display_name": "Python 3",
   "language": "python",
   "name": "python3"
  },
  "language_info": {
   "codemirror_mode": {
    "name": "ipython",
    "version": 3
   },
   "file_extension": ".py",
   "mimetype": "text/x-python",
   "name": "python",
   "nbconvert_exporter": "python",
   "pygments_lexer": "ipython3",
   "version": "3.7.3"
  }
 },
 "nbformat": 4,
 "nbformat_minor": 2
}
