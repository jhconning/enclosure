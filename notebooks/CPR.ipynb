{
 "cells": [
  {
   "cell_type": "markdown",
   "metadata": {},
   "source": [
    "# Enclosure Model\n",
    "\n",
    "My goals in this worksheet are to solve completely a representative model of common property. The idea is to develop a full positive model of the enclosure decision, and resolve any ambiguities (for example, about what happens when there are multiple equilibria) using theory. \n",
    "\n",
    "The model can then be used to see when and where there are conflicts between individual and society. The model can also be used to study income distribution. \n",
    "\n",
    "## Building Blocks\n",
    "\n",
    "First, we flesh out some of the components of the models of the enclosure of land of De Meza and Gould (1987, 1992). Specifically, we try to parlay those models into an explicitly positive model of the enclosure decision, so that we have exact predictions as to what combinations of relative productivity of enclosed land to common land, and population pressure, result in enclosure. This in turn allows one to \"see\" if enclosure occurs when it \"should\" from a societal perspective. \n",
    "\n",
    "So, we imagine that there is a population of $n$ agents which functions as the labor supply, and a total supply of land $1$. Let $a$ denote enclosed land, so that $t=1-a$ is common land. \n",
    "\n",
    "Throughout, we will remain completely agnostic about who, exactly, the ownership group of a particular parcel of land is. One can imagine that this is a person or group of persons in the population, or someone else. We just assume that the enclosure decision for a parcel is atomistic.\n",
    "\n",
    "When agents work in the enclosed sector, they earn a competitive wage, $w$, which shall be equal to the marginal product in \"enclosed production.\" When agents work on common land, they earn average product of labor on the commons."
   ]
  },
  {
   "cell_type": "markdown",
   "metadata": {},
   "source": [
    "# Comment on De Meza and Gould \n",
    "\n",
    "De Meza and Gould's great model is afflicted by one potential problem: they assume increasing returns in enclosed production, and this assumption is hiding in plain site. When production is at $a$ private sites, each with a production function of $f(l_i)$, say, then total output is:\n",
    "\n",
    "$$\n",
    "Y = \\sum_{i=1}^a f(l_i)\n",
    "$$\n",
    "\n",
    "If all producers use the same amount of labor, this then gives aggregate production on enclosed land of:\n",
    "\n",
    "$$\n",
    "Y=af(l)\n",
    "$$\n",
    "\n",
    "So, when viewed as an aggregate production function, this suggests that there are increasing returns in production. For example, one might view the production function as something like $al^\\alpha$. \n",
    "\n",
    "### The way around this...\n",
    "\n",
    "Obviously, the model should not include increasing returns in production in one sector, and more might be learned about the essence of the commons problem if one used a more nuetral approach. So, for example, if $Y=f(a,l)$ is a CRS production function, one could then posit the existence of a private production industry that competitively hires labor and land. Income in this sector will be exhausted between wages and land rental, with $w=MP_l$ and $r=MP_a$. We will proceed in this fashion...\n",
    "\n"
   ]
  },
  {
   "cell_type": "markdown",
   "metadata": {},
   "source": [
    "## Enclosed Production\n",
    "\n",
    "There is a CRS technology by which output is produced that uses enclosed land and wage labor to produce a numeraire. This technology is:\n",
    "\n",
    "$$\n",
    "q=\\theta \\sqrt{al}\n",
    "$$\n",
    "\n",
    "where $q$ is output, $a$ is (enclosed) land employed in production, and $l$ is labor hired. This gives us a rental rate and a wage, assuming a competitive enclosed land sector:\n",
    "\n",
    "$$\n",
    "r=\\frac{\\theta}{2}\\left(\\frac{l}{a}\\right)^\\frac{1}{2},\\quad w=\\frac{\\theta}{2}\\left(\\frac{a}{l}\\right)^\\frac{1}{2}\n",
    "$$\n",
    "\n",
    "which exhausts total output between labor and land. "
   ]
  },
  {
   "cell_type": "markdown",
   "metadata": {},
   "source": [
    "## Common Production\n",
    "\n",
    "\n",
    "The total available supply of labor is $n$. If $l$ units of labor are employed in the enclosed sector, then $e=n-l$ units of labor are working on the commons, which is of size $t=1-a$. If we suppose that common production is dictated by a function of the form:\n",
    "\n",
    "$$\n",
    "q = \\sqrt{te}\n",
    "$$\n",
    "\n",
    "\n",
    "Average product on the commons is then:\n",
    "\n",
    "$$\n",
    "\\frac{\\sqrt{te}}{e}=\\left(\\frac{1-a}{n-l}\\right)^\\frac{1}{2}\n",
    "$$\n",
    "\n",
    "Also, now $\\theta$ functions as a measure of relative TFP in private production versus the commons."
   ]
  },
  {
   "cell_type": "markdown",
   "metadata": {},
   "source": [
    "## Labor Market Equilibrium\n",
    "\n",
    "We imagine that the labor market clears in two steps. First, land enclosure decisions are made, and then, labor allocations are determined. Taking the second decision first, we see that in equilibrium the wage must be equal to average product on the commons, so that:\n",
    "\n",
    "$$\n",
    "\\left(\\frac{1-a}{n-l}\\right)^\\frac{1}{2}=\\frac{\\theta}{2}\\left(\\frac{a}{l}\\right)^\\frac{1}{2}\n",
    "$$"
   ]
  },
  {
   "cell_type": "markdown",
   "metadata": {},
   "source": [
    "Solving this gives an equilibrium labor allocation of:\n",
    "\n",
    "$$\n",
    "l^*=\\frac{\\theta^2}{4}\\left(\\frac{na}{1-a + \\frac{\\theta^2}{4}a}\\right)\n",
    "$$\n",
    "\n",
    "Note that this function is increasing in $a$, so that $\\frac{\\partial l}{\\partial a}>0$, and can be thought of as an expression for the share of labor used in enclosed production. The second derivative is indeterminate and could be either positive or negative. \n",
    "\n",
    "*Note: it can be shown quite generally that this \"share\" function will increase at an increasing rate when $\\theta$, relative private TFP is small.*"
   ]
  },
  {
   "cell_type": "markdown",
   "metadata": {},
   "source": [
    "Plugging $l^*$ into the rental rate on land gives:\n",
    "\n",
    "$$\n",
    "r^*(a)=n^\\frac{1}{2}\\frac{\\theta^2}{4}\\left(1-a+\\frac{\\theta^2}{4}a\\right)^{-\\frac{1}{2}}\n",
    "$$\n",
    "\n",
    "This function may be either increasing or decreasing in $a$, which depends only on whether the denominator is increasing in $a$ or not. One can show (or even just see from the above) that \n",
    "\n",
    "$$\n",
    "\\frac{\\partial r^*}{\\partial a} > 0 \\quad\\rightarrow\\quad \\theta < 2 \\\\\n",
    "\\frac{\\partial r^*}{\\partial a} = 0 \\quad\\rightarrow\\quad \\theta = 2 \\\\\n",
    "\\frac{\\partial r^*}{\\partial a} < 0 \\quad\\rightarrow\\quad \\theta < 2 \n",
    "$$\n",
    "\n",
    "In DG, it only the first possibility arises because of the increasing returns assumption."
   ]
  },
  {
   "cell_type": "markdown",
   "metadata": {},
   "source": [
    "### Equivalently...\n",
    "\n",
    "It turns out that a lot can be said about the model just be looking at the corners of the $r^*$ function. The rental rate on land in the event that there is no enclosure is: \n",
    "\n",
    "$$\n",
    "r^*(0)=n^{\\frac{1}{2}}\\frac{\\theta^2}{4}\n",
    "$$\n",
    "\n",
    "While the rental rate when all land has been enclosed is:\n",
    "\n",
    "$$\n",
    "r^*(1) = n^{\\frac{1}{2}}\\frac{\\theta}{2}\n",
    "$$\n",
    "\n",
    "So, right away, we can see $r^*(1)>r^*(0)$ whenever $\\theta<2$. In this case, there is a potential for multiple equilibria where either all land is enclosed or none is. By contrast, if $\\theta\\geq 2$, the rental rate on land is non-increasing in $a$, and hence there may be either complete enclosure of the commons, or some amount of interior closure."
   ]
  },
  {
   "cell_type": "markdown",
   "metadata": {},
   "source": [
    "# A positive model of enclosures\n",
    "\n",
    "We can now \"solve\" the model and show when enclosures will happen, when they will be complete, etc. This exercise will comprise the predictive aspect of the theory.\n",
    "\n",
    "The way to do this, it turns out, is to think about the case in which $\\theta>2$ and the case in which $\\theta<2$ seperately. This is like asking \"what happens when land is productive relative to common production? What about when it isn't?\"\n",
    "\n",
    "Suppose that the costs of enclosure are given by $c$. Hence, if $r^*>c$, the owners of the parcel will enclose land. Start with $\\theta > 2$. Then, we can ask: will all land be enclosed? \n",
    "\n",
    "## Productive private production $\\theta>2$\n",
    "\n",
    "### All land enclosed\n",
    "\n",
    "If $r^*>c$ when $a=1$, we will have full enclosure; as argued above, in this parameter range, $r^*$ is always decreasing in $a$, so if it is larger than $c$ at its smallest value, we have full enclosure. In parametric terms:\n",
    "\n",
    "$$\n",
    "n^\\frac{1}{2}\\frac{\\theta}{2}>c\n",
    "$$\n",
    "\n",
    "Which can be written as:\n",
    "\n",
    "$$\n",
    "n > 4\\left(\\frac{c}{\\theta}\\right)^2\n",
    "$$\n",
    "\n",
    "### Some land enclosued $\\theta>2$\n",
    "\n",
    "If $r^*(0)>c$, but $r(1)^*<c$ when $a=1$, some land will be enclosed but not all of it. In equilibrium, then $r=c$. Of course, $r^*(1)<c$ is the reverse of our previous condition. The condition that $r^*(0)>c$ can be rearranged to give:\n",
    "\n",
    "$$\n",
    "n > 16\\left(\\frac{c}{\\theta^2}\\right)^2\n",
    "$$\n",
    "\n",
    "Let's plot these two conditions in $\\theta,n$ space - which will tell us which combinations of technology and population pressure result in enclosure, provided technology is relatively good ($\\theta>2$)"
   ]
  },
  {
   "cell_type": "code",
   "execution_count": 1,
   "metadata": {},
   "outputs": [],
   "source": [
    "import numpy as np\n",
    "import matplotlib.pyplot as plt"
   ]
  },
  {
   "cell_type": "code",
   "execution_count": 2,
   "metadata": {},
   "outputs": [
    {
     "data": {
      "image/png": "[encoded data removed]",
      "text/plain": [
       "<Figure size 720x576 with 1 Axes>"
      ]
     },
     "metadata": {
      "needs_background": "light"
     },
     "output_type": "display_data"
    }
   ],
   "source": [
    "c = 1\n",
    "t2range = np.arange(2, 5, .01)\n",
    "\n",
    "fig, ax = plt.subplots(figsize=(10, 8))\n",
    "c1 = 4*(c/t2range)**2\n",
    "c2 = 16*(c/t2range**2)**2\n",
    "\n",
    "bline = ax.plot(t2range, c1, color='blue')\n",
    "oline = ax.plot(t2range, c2, color='orange')\n",
    "\n",
    "hline = ax.axhline(c, color = 'red', linestyle=':')\n",
    "vline = ax.axvline(2, color= 'green')\n",
    "\n",
    "text1 = ax.text(3.5, .8, 'Full enclosure')\n",
    "text2 = ax.text(3.1, .2, 'Partial enclosure')\n",
    "text3 = ax.text(2.1, .2, 'No enclosure')\n",
    "\n",
    "xl = ax.set_xlabel(r'$\\theta$')\n",
    "yl = ax.set_ylabel(r'$n$')\n",
    "\n",
    "title1 = fig.suptitle(r'Parameter spaces for enclosure, assuming $\\theta>2$')"
   ]
  },
  {
   "cell_type": "markdown",
   "metadata": {},
   "source": [
    "So, we see from the above, we have good production technology, but it only comes into usage when there is sufficient congestion on the commons as a function of $n$. This happens because if congestion is low, production on the commons is relatively attractive.  "
   ]
  },
  {
   "cell_type": "markdown",
   "metadata": {},
   "source": [
    "## Potential Multiplicity, and no partial enclosure $\\theta<2$\n",
    "\n",
    "Now, it is the case that the rental rate on land is always increasing in $a$! So, when $r^*(0)$ and $r^*(1)$ bracket $c$, or not, the consequences are different. Either full or no enclosure are possible, then, if:\n",
    "\n",
    "$$\n",
    "r(0)<c,\\quad r(1)>c\n",
    "$$\n",
    "\n",
    "If it is the case that $r(0)>c$, we will of course have only full enclosure, even when there are increasing returns to enclosure. This requires:\n",
    "\n",
    "$$\n",
    "n > 16\\left(\\frac{c}{\\theta^2}\\right)^2\n",
    "$$\n",
    "\n",
    "which is the same as previous, but we now can extend this to the case in which $\\theta<2$. Again, there will be no enclosure in this range, ever, if it is the case that $r(1)<c$, which requires that:\n",
    "\n",
    "$$\n",
    "n < 4\\left(\\frac{c}{\\theta}\\right)^2\n",
    "$$\n",
    "\n",
    "This is kind of neat, because the curves cross at a point, and the area between them now has a different meaning..."
   ]
  },
  {
   "cell_type": "code",
   "execution_count": 3,
   "metadata": {},
   "outputs": [
    {
     "data": {
      "image/png": "[encoded data removed]",
      "text/plain": [
       "<Figure size 720x576 with 1 Axes>"
      ]
     },
     "metadata": {
      "needs_background": "light"
     },
     "output_type": "display_data"
    }
   ],
   "source": [
    "c = 1\n",
    "t2range = np.arange(2, 3.5, .01)\n",
    "\n",
    "c1 = 4*(c/t2range)**2\n",
    "c2 = 16*(c/t2range**2)**2\n",
    "\n",
    "fig, ax = plt.subplots(figsize=(10, 8))\n",
    "bline = ax.plot(t2range, c1, color='blue')\n",
    "oline = ax.plot(t2range, c2, color='orange')\n",
    "\n",
    "rline = ax.axhline(c, color = 'red', linestyle=':')\n",
    "gline = ax.axvline(2, color= 'green')\n",
    "\n",
    "text1 = plt.text(2.5, 1.8, 'Full enclosure')\n",
    "text2 = plt.text(3.1, .2, 'Partial enclosure')\n",
    "text3 = plt.text(1.7, .2, 'No enclosure')\n",
    "text4 = plt.text(1.55, 1.83, 'Multiplicity', rotation=-45)\n",
    "\n",
    "xlab = ax.set_xlabel('theta')\n",
    "ylab = ax.set_ylabel('n')\n",
    "\n",
    "tl2range = np.arange(1.6,2,.01)\n",
    "c3 = 16*(c/tl2range**2)**2\n",
    "c4 = 4*(c/tl2range)**2\n",
    "\n",
    "bline2 = plt.plot(tl2range, c3, color='blue')\n",
    "oline2 = plt.plot(tl2range, c4, color='orange')"
   ]
  },
  {
   "cell_type": "markdown",
   "metadata": {},
   "source": [
    "## Equilibrium selection under multiplicity\n",
    "\n",
    "The above model about sums things up. What is interesting - as we shall see - is that, from a welfare perspective, there may be enclosure when there shouldn't be, and there may not be enclosure when there should be. Before getting to that, however, we will first take actions to remove the ambiguity of outcome in the \"Multiplicity\" region. \n",
    "\n",
    "### Global games\n",
    "\n",
    "The global games literature (Morris and Shin, 2003) show that introducing a small amount of randomness into the information sets of players, and then allowing players to use a switching strategy (around their private signal), results in a unique equilibrium for different values of the states. Morris and Shin (2003) also show how to find this equilbrium. \n",
    "\n",
    "So, we now assume that everyone now has a fairly precise but random signal of $\\theta$ with arbitrary distribution. The equilibrium to be found is such that:\n",
    "\n",
    "If a signal $\\theta_i>\\theta^*$, enclose, while if $\\theta_i<\\theta^*$, do not, where $\\theta^*$ is a cutoff derived from being indifferent between enclosure and not enclosing _when the agent has a uniform prior over the aggregate fraction of agents enclosing_. That is, as Morris and Shin (2003) show, we can find the cutoff $\\theta$ by solving:\n",
    "\n",
    "$$\n",
    "\\int_0^1 (r(a) - c)da = 0\n",
    "$$\n",
    "\n",
    "for $\\theta^*$, which can then be thought of as the technological tipping point. \n",
    "\n",
    "So we need to compute:\n",
    "\n",
    "$$\n",
    "\\int_0^1\\left(n^\\frac{1}{2}\\frac{\\theta^2}{4}\\left(1-a+\\frac{\\theta^2}{4}a\\right)^{-\\frac{1}{2}}-c\\right)da=0\n",
    "$$\n",
    "\n",
    "Let's use a little sympy to do this so we don't mess around..."
   ]
  },
  {
   "cell_type": "code",
   "execution_count": 4,
   "metadata": {},
   "outputs": [
    {
     "data": {
      "image/png": "[encoded data removed]",
      "text/latex": [
       "$$- c + \\frac{n^{0.5} \\theta^{2}}{4 \\sqrt{\\frac{a \\theta^{2}}{4} - a + 1}}$$"
      ],
      "text/plain": [
       "             0.5  2       \n",
       "            n   ⋅θ        \n",
       "-c + ─────────────────────\n",
       "            ______________\n",
       "           ╱    2         \n",
       "          ╱  a⋅θ          \n",
       "     4⋅  ╱   ──── - a + 1 \n",
       "       ╲╱     4           "
      ]
     },
     "execution_count": 4,
     "metadata": {},
     "output_type": "execute_result"
    }
   ],
   "source": [
    "from sympy import *\n",
    "\n",
    "init_printing()\n",
    "\n",
    "n, theta, a, c = symbols('n theta a c')\n",
    "igrand = n**(1/2)*theta**2/4*1/sqrt(1 - a + theta**2/4*a) - c\n",
    "igrand"
   ]
  },
  {
   "cell_type": "markdown",
   "metadata": {},
   "source": [
    "Computing the integral gives us:"
   ]
  },
  {
   "cell_type": "code",
   "execution_count": 5,
   "metadata": {},
   "outputs": [
    {
     "data": {
      "image/png": "[encoded data removed]",
      "text/latex": [
       "$$- a c + \\frac{n^{0.5} \\theta^{2} \\sqrt{\\frac{a \\theta^{2}}{4} - a + 1}}{2 \\left(\\frac{\\theta^{2}}{4} - 1\\right)}$$"
      ],
      "text/plain": [
       "                    ______________\n",
       "                   ╱    2         \n",
       "        0.5  2    ╱  a⋅θ          \n",
       "       n   ⋅θ ⋅  ╱   ──── - a + 1 \n",
       "               ╲╱     4           \n",
       "-a⋅c + ───────────────────────────\n",
       "                  ⎛ 2    ⎞        \n",
       "                  ⎜θ     ⎟        \n",
       "                2⋅⎜── - 1⎟        \n",
       "                  ⎝4     ⎠        "
      ]
     },
     "execution_count": 5,
     "metadata": {},
     "output_type": "execute_result"
    }
   ],
   "source": [
    "integrate(igrand, a)"
   ]
  },
  {
   "cell_type": "markdown",
   "metadata": {},
   "source": [
    "Evaluating the above at the limits as part of the calculation gives:"
   ]
  },
  {
   "cell_type": "code",
   "execution_count": 6,
   "metadata": {},
   "outputs": [
    {
     "data": {
      "image/png": "[encoded data removed]",
      "text/latex": [
       "$$- c + \\frac{n^{0.5} \\theta^{2} \\sqrt{\\theta^{2}}}{4 \\left(\\frac{\\theta^{2}}{4} - 1\\right)} - \\frac{n^{0.5} \\theta^{2}}{2 \\left(\\frac{\\theta^{2}}{4} - 1\\right)}$$"
      ],
      "text/plain": [
       "                ____             \n",
       "      0.5  2   ╱  2      0.5  2  \n",
       "     n   ⋅θ ⋅╲╱  θ      n   ⋅θ   \n",
       "-c + ─────────────── - ──────────\n",
       "          ⎛ 2    ⎞       ⎛ 2    ⎞\n",
       "          ⎜θ     ⎟       ⎜θ     ⎟\n",
       "        4⋅⎜── - 1⎟     2⋅⎜── - 1⎟\n",
       "          ⎝4     ⎠       ⎝4     ⎠"
      ]
     },
     "execution_count": 6,
     "metadata": {},
     "output_type": "execute_result"
    }
   ],
   "source": [
    "integrate(igrand, (a, 0, 1))"
   ]
  },
  {
   "cell_type": "markdown",
   "metadata": {},
   "source": [
    "Let's write this as:\n",
    "\n",
    "$$\n",
    "\\frac{\\theta^2n^\\frac{1}{2}}{2}\\frac{\\frac{\\theta}{2}-1}{\\frac{\\theta^2}{4}-1}-c\n",
    "$$\n",
    "\n",
    "Or\n",
    "\n",
    "$$\n",
    "\\frac{\\theta^2n^\\frac{1}{2}}{2}\\frac{\\frac{\\theta}{2}-1}{\\left(\\frac{\\theta}{2}-1\\right)\\left(\\frac{\\theta}{2}+1\\right)}-c\n",
    "$$\n",
    "\n"
   ]
  },
  {
   "cell_type": "markdown",
   "metadata": {},
   "source": [
    "So, we now have:\n",
    "\n",
    "$$\n",
    "\\frac{\\theta^2n^\\frac{1}{2}}{\\theta+2}-c\n",
    "$$\n",
    "\n",
    "Which should give us two solutions for $\\theta$. But we are best off thinking about this as defining $n=n(\\theta)$, where $n(\\theta)$ is:\n",
    "\n",
    "$$\n",
    "n = \\frac{c^2(\\theta^2+2)^2}{\\theta^4}\n",
    "$$\n",
    "\n",
    "So, whenever our parameters are above this line, we have enclosure, but below it we do not. In the end, here is our complete figure:"
   ]
  },
  {
   "cell_type": "code",
   "execution_count": 7,
   "metadata": {},
   "outputs": [
    {
     "data": {
      "image/png": "[encoded data removed]",
      "text/plain": [
       "<Figure size 720x576 with 1 Axes>"
      ]
     },
     "metadata": {
      "needs_background": "light"
     },
     "output_type": "display_data"
    }
   ],
   "source": [
    "c = 1\n",
    "t2range = np.arange(2, 3.5, .01)\n",
    "\n",
    "c1 = 4*(c/t2range)**2\n",
    "c2 = 16*(c/t2range**2)**2\n",
    "\n",
    "fig, ax = plt.subplots(figsize=(10, 8))\n",
    "bline = ax.plot(t2range, c1, color='blue')\n",
    "oline = ax.plot(t2range, c2, color='orange')\n",
    "\n",
    "rline = ax.axhline(c, color = 'red', linestyle=':')\n",
    "gline = ax.axvline(2, color= 'green')\n",
    "\n",
    "text1 = ax.text(2.5, 1.8, 'Full enclosure')\n",
    "text2 = ax.text(3.1, .2, 'Partial enclosure')\n",
    "text3 = ax.text(1.7, .2, 'No enclosure')\n",
    "text4 = ax.text(1.55, 1.83, 'Multiplicity', rotation=-45)\n",
    "\n",
    "xlab = ax.set_xlabel('theta')\n",
    "ylab = ax.set_ylabel('n')\n",
    "\n",
    "tl2range = np.arange(1.5,2,.01)\n",
    "c3 = 16*(c/tl2range**2)**2\n",
    "c4 = 4*(c/tl2range)**2\n",
    "\n",
    "ncut = c**2*(tl2range**2 + 4*tl2range + 4)/tl2range**4\n",
    "\n",
    "bline2 = ax.plot(tl2range, c3, color='blue')\n",
    "cline2 = ax.plot(tl2range, c4, color='orange')\n",
    "ggline = ax.plot(tl2range, ncut, color='black', linestyle='--')"
   ]
  },
  {
   "cell_type": "markdown",
   "metadata": {},
   "source": [
    "It worked quite well...we now can see how enclosure depends upon population pressure and the relative productivity of private production technology...even when there is a little strategic uncertainty caused by contagion.\n",
    "\n",
    "### Jonathan's extension\n",
    "\n",
    "So, this is our atomistic enclosure model...what if we added some market power in the enclosure decision? What would that change? \n",
    "\n",
    "\n",
    "### Predictions\n",
    "\n",
    "In terms of the great Greg Clark debate, this model argues that enclosure will eventually occur at some critical population level, even if land is not very productive in private production. "
   ]
  },
  {
   "cell_type": "markdown",
   "metadata": {},
   "source": [
    "# Optimality (did I do this right?)\n",
    "\n",
    "Based on all of the above, is enclosure optimal in the sense that it maximizes total societal income? This would be the clue to seeing whether or not enclosure might occur even if it isn't in the best interests of society, given our \"complete\" positive model. \n",
    "\n",
    "Income is:\n",
    "\n",
    "$$\n",
    "Y = ra + wl +\\sqrt{(n-l)(1-a)}-ca\n",
    "$$\n",
    "\n",
    "Using our expressions for the rental rate and the wage, we have:\n",
    "\n",
    "$$\n",
    "Y = \\theta\\sqrt{al}+\\sqrt{(n-l)(1-a)}-ca\n",
    "$$\n",
    "\n",
    "## First-best labor allocation\n",
    "\n",
    "We could solve this in a number of fashions. First, let's consider the first-best, but let's do this sequentially so we first solve things for $l$ given $a$, and then look at $a$. We have the derivative of the above with respect to $l$ as:\n",
    "\n",
    "$$\n",
    "\\frac{\\theta}{2}\\sqrt{\\frac{a}{l}} - \\frac{1}{2}\\sqrt{\\frac{1-a}{n-l}}=0\n",
    "$$\n",
    "\n",
    "This describes optimal labor given $a$, and we can see already one source of inefficiency is caused by the overuse of common land. First-best labor allocation would correct this. Anyways, we find that:\n",
    "\n",
    "$$\n",
    "l^o = \\frac{\\theta^2an}{\\theta^2a-a+1}\n",
    "$$"
   ]
  },
  {
   "cell_type": "markdown",
   "metadata": {},
   "source": [
    "If we plug this back into $Y$ and simplify, we have:\n",
    "\n",
    "$$\n",
    "Y=\\sqrt{n}\\left(\\theta^2a + 1 - a\\right)^\\frac{1}{2}-ca\n",
    "$$\n",
    "\n",
    "So, as before, we see that the behavior of this welfare function is different depending on whether or not $\\theta >1$. If $\\theta>1$, we can see that welfare can be increasing, depending upon the size of $c$ and $n$. First, compute the derivatives:\n",
    "\n",
    "$$\n",
    "\\frac{dY}{da}=(\\theta^2-1)\\sqrt{n}\\left(\\theta^2a + 1 -a\\right)^{-\\frac{1}{2}}-c\n",
    "$$\n"
   ]
  },
  {
   "cell_type": "markdown",
   "metadata": {},
   "source": [
    "Clearly, if the above derivative is greater than zero at $a=0$, there should be some enclosure. This condition is:\n",
    "\n",
    "$$\n",
    "(\\theta^2-1)\\sqrt{n}-c>0 \\quad \\rightarrow \\quad n > \\left(\\frac{c}{\\theta^2-1}\\right)^2\n",
    "$$"
   ]
  },
  {
   "cell_type": "markdown",
   "metadata": {},
   "source": [
    "Further, if the derivative is greater than zero at $a=1$, enclosure should be full. This condition is:\n",
    "\n",
    "$$\n",
    "\\frac{\\theta^2-1}{\\theta}\\sqrt{n}-c>0\\quad\\rightarrow\\quad\\left(\\frac{\\theta c}{\\theta^2-1}\\right)^2\n",
    "$$\n",
    "\n",
    "The region of the parameter space where the first condition is satisfied, but not the second, means that some but not complete enclosure is optimal. Of course, all of this applies only if $\\theta>1$. If $\\theta$ equals one, or is less than one, we have nothing. \n",
    "\n",
    "### Comment\n",
    "\n",
    "Because we have now somehow solved the overuse of the commons problem inherent in average product returns, the only tradeoff is between getting a more productive technology when $\\theta>1$, but at an output cost of $c$. That's why we don't just have full enclosure. \n"
   ]
  },
  {
   "cell_type": "markdown",
   "metadata": {},
   "source": [
    "## Second-best\n",
    "\n",
    "Now, one might argue that the correct question to ask would be: what amount of land should be enclosed, if common land was open access and labor usage was dictated by average product? In this case, we find that our social welfare function is:\n",
    "\n",
    "$$\n",
    "Y=\\sqrt{n}\\frac{\\frac{\\theta^2}{2}a+1-a}{\\sqrt{\\frac{\\theta^2}{4}a+1-a}}-ca\n",
    "$$\n",
    "\n",
    "This function resembles the one for efficient $Y$, but is a little more agressive in regards its opinions about enclosure. One can show that the first part of the function is either monotone decreasing in $a$ or increasing in $a$, and that this depends entirely on $\\theta$. (At least my gut is that this is the case).\n",
    "\n",
    "Let's first try to understand what the aggregate output function looks like:"
   ]
  },
  {
   "cell_type": "code",
   "execution_count": 85,
   "metadata": {},
   "outputs": [
    {
     "data": {
      "image/png": "[encoded data removed]",
      "text/latex": [
       "$$\\frac{\\sqrt{n} \\left(\\frac{a \\theta^{2}}{2} - a + 1\\right)}{\\sqrt{\\frac{a \\theta^{2}}{4} - a + 1}}$$"
      ],
      "text/plain": [
       "    ⎛   2        ⎞ \n",
       "    ⎜a⋅θ         ⎟ \n",
       " √n⋅⎜──── - a + 1⎟ \n",
       "    ⎝ 2          ⎠ \n",
       "───────────────────\n",
       "     ______________\n",
       "    ╱    2         \n",
       "   ╱  a⋅θ          \n",
       "  ╱   ──── - a + 1 \n",
       "╲╱     4           "
      ]
     },
     "execution_count": 85,
     "metadata": {},
     "output_type": "execute_result"
    }
   ],
   "source": [
    "n, theta, a, c = symbols('n theta a c')\n",
    "\n",
    "Y1 = sqrt(n) * (theta**2/2*a + 1 - a) / sqrt(theta**2/4*a + 1 - a)\n",
    "Y1\n",
    "\n"
   ]
  },
  {
   "cell_type": "markdown",
   "metadata": {},
   "source": [
    "The derivative of this expression wrt $a$ is (perhaps this can be simplified):"
   ]
  },
  {
   "cell_type": "code",
   "execution_count": 86,
   "metadata": {},
   "outputs": [
    {
     "data": {
      "image/png": "[encoded data removed]",
      "text/latex": [
       "$$\\frac{\\sqrt{n} \\left(a \\theta^{4} - 6 a \\theta^{2} + 8 a + 6 \\theta^{2} - 8\\right)}{2 \\left(a \\theta^{2} - 4 a + 4\\right)^{\\frac{3}{2}}}$$"
      ],
      "text/plain": [
       "   ⎛   4        2            2    ⎞\n",
       "√n⋅⎝a⋅θ  - 6⋅a⋅θ  + 8⋅a + 6⋅θ  - 8⎠\n",
       "───────────────────────────────────\n",
       "                         3/2       \n",
       "         ⎛   2          ⎞          \n",
       "       2⋅⎝a⋅θ  - 4⋅a + 4⎠          "
      ]
     },
     "execution_count": 86,
     "metadata": {},
     "output_type": "execute_result"
    }
   ],
   "source": [
    "dY1da = diff(Y1, a).factor().simplify()\n",
    "dY1da"
   ]
  },
  {
   "cell_type": "markdown",
   "metadata": {},
   "source": [
    "And then factored:"
   ]
  },
  {
   "cell_type": "code",
   "execution_count": 87,
   "metadata": {},
   "outputs": [
    {
     "data": {
      "image/png": "[encoded data removed]",
      "text/latex": [
       "$$\\frac{\\sqrt{n} \\left(a \\left(\\theta - 2\\right) \\left(\\theta + 2\\right) \\left(\\theta^{2} - 2\\right) + 2 \\left(3 \\theta^{2} - 4\\right)\\right)}{2 a \\left(\\theta - 2\\right) \\left(\\theta + 2\\right) - 8}$$"
      ],
      "text/plain": [
       "   ⎛                  ⎛ 2    ⎞     ⎛   2    ⎞⎞\n",
       "√n⋅⎝a⋅(θ - 2)⋅(θ + 2)⋅⎝θ  - 2⎠ + 2⋅⎝3⋅θ  - 4⎠⎠\n",
       "──────────────────────────────────────────────\n",
       "           2⋅a⋅(θ - 2)⋅(θ + 2) - 8            "
      ]
     },
     "execution_count": 87,
     "metadata": {},
     "output_type": "execute_result"
    }
   ],
   "source": [
    "dY = sqrt(n)*(factor( a*theta**4 - 6*a*theta**2 + 8*a) + factor(6*theta**2 - 8)) / (2 *(a*(theta-2)*(theta+2) - 4))\n",
    "dY"
   ]
  },
  {
   "cell_type": "markdown",
   "metadata": {},
   "source": [
    "One can see that from the above that at $\\theta=2$, the derivative is constant, positive, and independent of $a$. It looks to me like the derivative is always increasing in $a$ when $\\theta<2$, and always decreasing in $a$ when $\\theta>2$. The following lets one mess around with a plot of the net production function and its derivative (in red). "
   ]
  },
  {
   "cell_type": "code",
   "execution_count": 123,
   "metadata": {},
   "outputs": [
    {
     "data": {
      "image/png": "[encoded data removed]",
      "text/plain": [
       "<Figure size 432x288 with 1 Axes>"
      ]
     },
     "metadata": {
      "needs_background": "light"
     },
     "output_type": "display_data"
    }
   ],
   "source": [
    "Theta = 1.5\n",
    "\n",
    "p = plot(dY1da.subs({theta:Theta, n:1}), (a, 0, 1), line_color='r', show=False)\n",
    "p.extend(plot(Y1.subs({theta:Theta, n:1}), (a, 0, 1), show=False))\n",
    "p.show()"
   ]
  },
  {
   "cell_type": "markdown",
   "metadata": {},
   "source": [
    "# Things about the function to be proven rigorously\n",
    "\n",
    "So, I'm fairly certain we can say the following about the function:\n",
    "\n",
    "- When $\\theta>2$, Y increases in $a$ at a decreasing rate. \n",
    "- When $\\theta<2$, Y increases i $a$ at an increasing rate. \n",
    "- When $\\theta=2$, Y is independent of $a$. \n",
    "\n",
    "Based on this, we can say:\n",
    "\n",
    "- When $\\theta>2$, it is possible to have either full, partial, or no enclosures be optimal.\n",
    "- When $\\theta<2$, it is either the case that full or no enclosures are optimal.\n",
    "\n",
    "So, we can basically determine everything we need to using the value of the function and its derivatives. "
   ]
  },
  {
   "cell_type": "code",
   "execution_count": 119,
   "metadata": {},
   "outputs": [
    {
     "data": {
      "image/png": "[encoded data removed]",
      "text/latex": [
       "$$\\left ( \\sqrt{n}, \\quad \\frac{\\sqrt{n} \\left(3 \\theta^{2} - 4\\right)}{8}\\right )$$"
      ],
      "text/plain": [
       "⎛       ⎛   2    ⎞⎞\n",
       "⎜    √n⋅⎝3⋅θ  - 4⎠⎟\n",
       "⎜√n, ─────────────⎟\n",
       "⎝          8      ⎠"
      ]
     },
     "execution_count": 119,
     "metadata": {},
     "output_type": "execute_result"
    }
   ],
   "source": [
    "Y1.subs({a:0}), dY1da.subs({a:0}).simplify()"
   ]
  },
  {
   "cell_type": "markdown",
   "metadata": {},
   "source": [
    "Here is the value of the function and its derivatives at a value of $a=1$:"
   ]
  },
  {
   "cell_type": "code",
   "execution_count": 120,
   "metadata": {},
   "outputs": [
    {
     "data": {
      "image/png": "[encoded data removed]",
      "text/latex": [
       "$$\\left ( \\frac{\\sqrt{n} \\theta^{2}}{\\sqrt{\\theta^{2}}}, \\quad \\frac{\\sqrt{n} \\theta^{4}}{2 \\left(\\theta^{2}\\right)^{\\frac{3}{2}}}\\right )$$"
      ],
      "text/plain": [
       "⎛     2         4  ⎞\n",
       "⎜ √n⋅θ      √n⋅θ   ⎟\n",
       "⎜───────, ─────────⎟\n",
       "⎜   ____        3/2⎟\n",
       "⎜  ╱  2     ⎛ 2⎞   ⎟\n",
       "⎝╲╱  θ    2⋅⎝θ ⎠   ⎠"
      ]
     },
     "execution_count": 120,
     "metadata": {},
     "output_type": "execute_result"
    }
   ],
   "source": [
    "Y1.subs({a:1}).simplify(), dY1da.subs({a:1}).simplify()"
   ]
  },
  {
   "cell_type": "markdown",
   "metadata": {},
   "source": [
    "## Full enclosures with $\\theta>2$ and Optimum Welfare\n",
    "\n",
    "Since the derivative of $Y$ with respect to $a$ is always decreasing in $y$, if it is the case that that $\\frac{dY}{da}|_{a=1}>c$, then we should have full enclosures. This occurs when:\n",
    "\n",
    "$$\n",
    "\\frac{\\sqrt{n}\\theta}{2}>c\\quad\\rightarrow\\quad n \\geq \\frac{4c^2}{\\theta^2}\n",
    "$$\n",
    "\n",
    "Maybe this should have been obvious, but this exactly matches the positive prediction of the model. \n",
    "\n",
    "Enclosures should be partial, then, when this condition is reversed and we have: $\\frac{dY}{da}|_{a=0}>c$, which requires:\n",
    "\n",
    "$$\n",
    "\\sqrt{n}\\frac{\\left(3\\theta^2-4\\right)}{8} \\geq c\\quad\\rightarrow\\quad n \\geq \\left(\\frac{8c}{3\\theta^2-4}\\right)^2\n",
    "$$\n",
    "\n",
    "This is NOT the same as the positive model, which is going to take some ruminating over! Note that enclosures begin, according to the positive model, when \n",
    "\n",
    "$$\n",
    "n>\\left(\\frac{4c}{\\theta^2}\\right)^2\n",
    "$$\n",
    "\n",
    "Comparing these two, we see that the socially optimal dividing line lies _below_ the other line whenever $\\theta>2$, meaning that it would be desirable if there were some enclosure even though no one is undertaking it!"
   ]
  },
  {
   "cell_type": "markdown",
   "metadata": {},
   "source": [
    "Full enclosures with $\\theta<2$ and Optimum Welfare\n",
    "\n",
    "Now, things are a little easier because there are increasing returns. So, enclosures are either optimal or not based on whether $Y(1)>c$, and we don't have to worry about anything else. \n",
    "\n",
    "So, this means that we just have \n",
    "\n",
    "$$\n",
    "\\theta \\sqrt{n}-c> \\sqrt{n}\n",
    "$$\n",
    "\n",
    "So, our locus becomes:\n",
    "\n",
    "$$\n",
    "\\frac{c^2}{(\\theta-1)^2}\n",
    "$$"
   ]
  },
  {
   "cell_type": "markdown",
   "metadata": {},
   "source": [
    "Does the function take a minimum or maximum value on in its range? Let's make it a full plot..."
   ]
  },
  {
   "cell_type": "code",
   "execution_count": 133,
   "metadata": {},
   "outputs": [
    {
     "data": {
      "image/png": "[encoded data removed]",
      "text/plain": [
       "<Figure size 720x576 with 1 Axes>"
      ]
     },
     "metadata": {
      "needs_background": "light"
     },
     "output_type": "display_data"
    }
   ],
   "source": [
    "c = 1\n",
    "t2range = np.arange(2, 3.5, .01)\n",
    "\n",
    "c1 = 4*(c/t2range)**2\n",
    "c2 = 16*(c/t2range**2)**2\n",
    "\n",
    "fig, ax = plt.subplots(figsize=(10, 8))\n",
    "bline = ax.plot(t2range, c1, color='blue')\n",
    "oline = ax.plot(t2range, c2, color='orange')\n",
    "\n",
    "rline = ax.axhline(c, color = 'red', linestyle=':')\n",
    "gline = ax.axvline(2, color= 'green')\n",
    "\n",
    "text1 = plt.text(2.5, 1.8, 'Full enclosure')\n",
    "text2 = plt.text(3.1, .2, 'Partial enclosure')\n",
    "text3 = plt.text(1.7, .2, 'No enclosure')\n",
    "text4 = plt.text(1.55, 1.83, 'Multiplicity', rotation=-45)\n",
    "\n",
    "xlab = ax.set_xlabel('theta')\n",
    "ylab = ax.set_ylabel('n')\n",
    "\n",
    "tl2range = np.arange(1.6,2,.01)\n",
    "c3 = 16*(c/tl2range**2)**2\n",
    "c4 = 4*(c/tl2range)**2\n",
    "\n",
    "bline2 = plt.plot(tl2range, c3, color='blue')\n",
    "oline2 = plt.plot(tl2range, c4, color='orange')\n",
    "\n",
    "tl3range = np.arange(1.6, 2, .01)\n",
    "sol2 = (c/(tl3range-1))**2\n",
    "\n",
    "sol3 = (8*c/(3*t2range**2 - 4))**2\n",
    "\n",
    "sol2line = plt.plot(tl3range, sol2, color='orange', linestyle='--')\n",
    "sol3line = plt.plot(t2range, sol3, color='orange', linestyle='--')    "
   ]
  },
  {
   "cell_type": "code",
   "execution_count": null,
   "metadata": {},
   "outputs": [],
   "source": []
  }
 ],
 "metadata": {
  "kernelspec": {
   "display_name": "Python 3",
   "language": "python",
   "name": "python3"
  },
  "language_info": {
   "codemirror_mode": {
    "name": "ipython",
    "version": 3
   },
   "file_extension": ".py",
   "mimetype": "text/x-python",
   "name": "python",
   "nbconvert_exporter": "python",
   "pygments_lexer": "ipython3",
   "version": "3.7.3"
  }
 },
 "nbformat": 4,
 "nbformat_minor": 2
}
