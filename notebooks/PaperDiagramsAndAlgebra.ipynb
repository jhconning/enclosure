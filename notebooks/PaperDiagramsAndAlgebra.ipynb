{
 "cells": [
  {
   "cell_type": "markdown",
   "metadata": {},
   "source": [
    "# Optimality\n",
    "\n",
    "Trying to hash out some of the details from the paper about the socially optimal amount of enclosure. We start out with the case in which labor is allocated optimally, so the marginal product on the commons is equal to that in the enclosed sector, given the degree of enclosure:\n",
    "\n",
    "$$\n",
    "\\alpha\\left(\\frac{1-t_e}{1-l_e}\\right)^{1-\\alpha}=\\alpha\\theta\\left(\\frac{t_e}{l_e}\\right)^{1-\\alpha}\n",
    "$$\n",
    "\n",
    "So, what I call $l_e^o$ in the paper is:\n",
    "\n",
    "$$\n",
    "l_e^o = \\frac{\\theta^\\frac{1}{1-\\alpha}t_e}{1-t_e+\\theta^\\frac{1}{1-\\alpha}t_e}\n",
    "$$\n",
    "\n",
    "The Aggregate production function is:\n",
    "\n",
    "$$\n",
    "Y= \\bar T^{1-\\alpha} \\bar L^\\alpha\\left(\\theta t_e^{1-\\alpha} l_e^\\alpha+(1-t_e)^{1-\\alpha}(1-l_e)^\\alpha\\right) - c \\bar T t_e\n",
    "$$\n",
    "\n",
    "Which reduces to\n",
    "\n",
    "$$\n",
    "\\bar T^{1-\\alpha} \\bar L^\\alpha \\left(1-t_e+\\theta^\\frac{1}{1-\\alpha}t_e\\right)^{1-\\alpha}-c\\bar T t_e\n",
    "$$"
   ]
  },
  {
   "cell_type": "markdown",
   "metadata": {},
   "source": [
    "# First best, unconditional optimality\n",
    "\n",
    "Now, from the above, it is clear that $\\theta<1$ is a non-starter. In this case, the above function is just decreasing in $t_e$. But it is also true that if $\\theta>0$, then the function is everywhere concave. \n",
    "\n",
    "This is important because it shows that the cases in which the function is convex derive from misallocation on the commons. In any event, we can evaluate the derivatives of this function at zero and one to see if enclosure should be void, partial, or full. Let's write in intensive form as:\n",
    "\n",
    "$$\n",
    "\\bar T\\left[p^\\alpha \\left(1-t_e+\\theta^\\frac{1}{1-\\alpha}t_e\\right)^{1-\\alpha}-c t_e\\right]\n",
    "$$"
   ]
  },
  {
   "cell_type": "code",
   "execution_count": 1,
   "metadata": {},
   "outputs": [
    {
     "data": {
      "image/png": "[encoded data removed]",
      "text/latex": [
       "$$- c t_{e} + p^{\\alpha} \\left(t_{e} \\left(\\theta^{\\frac{1}{- \\alpha + 1}} - 1\\right) + 1\\right)^{- \\alpha + 1}$$"
      ],
      "text/plain": [
       "                                 -α + 1\n",
       "           ⎛   ⎛   1       ⎞    ⎞      \n",
       "           ⎜   ⎜ ──────    ⎟    ⎟      \n",
       "         α ⎜   ⎜ -α + 1    ⎟    ⎟      \n",
       "-c⋅tₑ + p ⋅⎝tₑ⋅⎝θ       - 1⎠ + 1⎠      "
      ]
     },
     "execution_count": 1,
     "metadata": {},
     "output_type": "execute_result"
    }
   ],
   "source": [
    "from sympy import *\n",
    "\n",
    "init_printing()\n",
    "\n",
    "p, theta, te, alpha, c = symbols('p theta t_e alpha c')\n",
    "Yfb = p**alpha*((theta**(1/(1-alpha))-1 )*te + 1)**(1-alpha) - c*te\n",
    "Yfb"
   ]
  },
  {
   "cell_type": "code",
   "execution_count": 2,
   "metadata": {},
   "outputs": [],
   "source": [
    "from matplotlib import rc\n",
    "rc('font',**{'family':'sans-serif','sans-serif':['Helvetica']})"
   ]
  },
  {
   "cell_type": "markdown",
   "metadata": {},
   "source": [
    "The derivative is:"
   ]
  },
  {
   "cell_type": "code",
   "execution_count": 3,
   "metadata": {
    "scrolled": true
   },
   "outputs": [
    {
     "data": {
      "image/png": "[encoded data removed]",
      "text/latex": [
       "$$- c + \\frac{p^{\\alpha} \\left(- \\alpha + 1\\right) \\left(\\theta^{\\frac{1}{- \\alpha + 1}} - 1\\right) \\left(t_{e} \\left(\\theta^{\\frac{1}{- \\alpha + 1}} - 1\\right) + 1\\right)^{- \\alpha + 1}}{t_{e} \\left(\\theta^{\\frac{1}{- \\alpha + 1}} - 1\\right) + 1}$$"
      ],
      "text/plain": [
       "                                                     -α + 1\n",
       "                 ⎛   1       ⎞ ⎛   ⎛   1       ⎞    ⎞      \n",
       "                 ⎜ ──────    ⎟ ⎜   ⎜ ──────    ⎟    ⎟      \n",
       "      α          ⎜ -α + 1    ⎟ ⎜   ⎜ -α + 1    ⎟    ⎟      \n",
       "     p ⋅(-α + 1)⋅⎝θ       - 1⎠⋅⎝tₑ⋅⎝θ       - 1⎠ + 1⎠      \n",
       "-c + ──────────────────────────────────────────────────────\n",
       "                         ⎛   1       ⎞                     \n",
       "                         ⎜ ──────    ⎟                     \n",
       "                         ⎜ -α + 1    ⎟                     \n",
       "                      tₑ⋅⎝θ       - 1⎠ + 1                 "
      ]
     },
     "execution_count": 3,
     "metadata": {},
     "output_type": "execute_result"
    }
   ],
   "source": [
    "Yfbp = diff(Yfb, te)\n",
    "Yfbp"
   ]
  },
  {
   "cell_type": "markdown",
   "metadata": {},
   "source": [
    "So, what we will do to get the loci for the first-best case is \n",
    "\n",
    "- substitute in 0 and 1\n",
    "- solve the result for $p$. \n",
    "\n",
    "We have:"
   ]
  },
  {
   "cell_type": "code",
   "execution_count": 4,
   "metadata": {},
   "outputs": [
    {
     "data": {
      "image/png": "[encoded data removed]",
      "text/latex": [
       "$$\\left ( \\left(\\frac{c \\theta^{\\frac{1}{\\alpha - 1}}}{\\left(\\alpha - 1\\right) \\left(\\theta^{\\frac{1}{\\alpha - 1}} - 1\\right)}\\right)^{\\frac{1}{\\alpha}}, \\quad \\left(\\frac{c \\theta^{\\frac{1}{\\alpha - 1}} \\left(\\theta^{- \\frac{1}{\\alpha - 1}}\\right)^{\\alpha}}{\\left(\\alpha - 1\\right) \\left(\\theta^{\\frac{1}{\\alpha - 1}} - 1\\right)}\\right)^{\\frac{1}{\\alpha}}\\right )$$"
      ],
      "text/plain": [
       "⎛                                                   ______________________⎞\n",
       "⎜             ______________________               ╱                   α  ⎟\n",
       "⎜            ╱            1                       ╱        1   ⎛  -1  ⎞   ⎟\n",
       "⎜           ╱           ─────                    ╱       ───── ⎜ ─────⎟   ⎟\n",
       "⎜          ╱            α - 1                   ╱        α - 1 ⎜ α - 1⎟   ⎟\n",
       "⎜         ╱          c⋅θ                       ╱      c⋅θ     ⋅⎝θ     ⎠   ⎟\n",
       "⎜        ╱     ──────────────────── ,         ╱      ──────────────────── ⎟\n",
       "⎜       ╱              ⎛   1      ⎞          ╱               ⎛   1      ⎞ ⎟\n",
       "⎜      ╱               ⎜ ─────    ⎟         ╱                ⎜ ─────    ⎟ ⎟\n",
       "⎜alpha╱                ⎜ α - 1    ⎟   alpha╱                 ⎜ α - 1    ⎟ ⎟\n",
       "⎝   ╲╱         (α - 1)⋅⎝θ      - 1⎠      ╲╱          (α - 1)⋅⎝θ      - 1⎠ ⎠"
      ]
     },
     "execution_count": 4,
     "metadata": {},
     "output_type": "execute_result"
    }
   ],
   "source": [
    "Yfbp0 = Yfbp.subs({te:0})\n",
    "Yfbp1 = Yfbp.subs({te:1})\n",
    "solve(Yfbp0, p)[0].simplify(), solve(Yfbp1, p)[0].simplify()"
   ]
  },
  {
   "cell_type": "markdown",
   "metadata": {},
   "source": [
    "Rewrite the above as:\n",
    "\n",
    "$$\n",
    "p_0^o = \\left[\\frac{c}{(\\theta^\\frac{1}{1-\\alpha}-1)(1-\\alpha)}\\right]^\\frac{1}{\\alpha}\n",
    "$$\n",
    "\n",
    "$$\n",
    "p_1^o = \\left[\\frac{c\\theta^\\frac{\\alpha}{1-\\alpha}}{(\\theta^\\frac{1}{1-\\alpha}-1)(1-\\alpha)}\\right]^\\frac{1}{\\alpha}\n",
    "$$"
   ]
  },
  {
   "cell_type": "markdown",
   "metadata": {},
   "source": [
    "A couple of things about this - first, it might make sense to first graph these up in a way that seems reasonable. So, we have:"
   ]
  },
  {
   "cell_type": "code",
   "execution_count": 5,
   "metadata": {},
   "outputs": [
    {
     "name": "stderr",
     "output_type": "stream",
     "text": [
      "findfont: Font family ['sans-serif'] not found. Falling back to DejaVu Sans.\n"
     ]
    }
   ],
   "source": [
    "import numpy as np\n",
    "import matplotlib.pyplot as plt\n",
    "\n",
    "##### Base parameters  #####\n",
    "\n",
    "c        = 1\n",
    "alp      = 1/2\n",
    "\n",
    "##### Truncated ranges applicable only at certain points ####\n",
    "\n",
    "the_1 = np.arange(1.4, 2, .01)\n",
    "\n",
    "po0 = ( c                      / ((the_1**(1/(1-alp)) - 1)*(1-alp))  ) **(1/alp)\n",
    "po1 = ( c*the_1**(alp/(1-alp)) / ((the_1**(1/(1-alp)) - 1)*(1-alp))  ) **(1/alp)\n",
    "\n",
    "fig, ax = plt.subplots(figsize=(10, 8))\n",
    "\n",
    "oline1 = ax.plot(the_1, po0, color='blue')\n",
    "bline1 = ax.plot(the_1, po1, color='orange')\n",
    "\n",
    "gline1  = ax.axvline(1, color= 'green', linestyle=':')"
   ]
  },
  {
   "cell_type": "markdown",
   "metadata": {},
   "source": [
    "So, we see that the two lines head asymptotically towards the value one...but it is hard to show this on the graph. Are things less sensitive with log-labor/land ratio?"
   ]
  },
  {
   "cell_type": "code",
   "execution_count": 6,
   "metadata": {},
   "outputs": [
    {
     "data": {
      "image/png": "[encoded data removed]",
      "text/plain": [
       "<Figure size 720x576 with 1 Axes>"
      ]
     },
     "metadata": {
      "needs_background": "light"
     },
     "output_type": "display_data"
    }
   ],
   "source": [
    "import numpy as np\n",
    "import matplotlib.pyplot as plt\n",
    "\n",
    "##### Base parameters  #####\n",
    "\n",
    "c        = 1\n",
    "alp      = 2/3\n",
    "\n",
    "##### Truncated ranges applicable only at certain points ####\n",
    "\n",
    "the_1 = np.arange(1.1, 3, .01)\n",
    "\n",
    "ln_po0 = np.log(( c                      / ((the_1**(1/(1-alp)) - 1)*(1-alp))  ) **(1/alp))\n",
    "ln_po1 = np.log(( c*the_1**(alp/(1-alp)) / ((the_1**(1/(1-alp)) - 1)*(1-alp))  ) **(1/alp))\n",
    "\n",
    "fig, ax = plt.subplots(figsize=(10, 8))\n",
    "\n",
    "oline1 = ax.plot(the_1, ln_po0, color='blue')\n",
    "bline1 = ax.plot(the_1, ln_po1, color='orange')\n",
    "\n",
    "gline1  = ax.axvline(1, color= 'green', linestyle=':')"
   ]
  },
  {
   "cell_type": "markdown",
   "metadata": {},
   "source": [
    "So, over the blue line there should be some enclosure, while over the orange line, there should be total enclosure. technology/TFP parameter is on the horizontal axis, while the labor/land ratio (in logs) is on the vertical axis. "
   ]
  },
  {
   "cell_type": "markdown",
   "metadata": {},
   "source": [
    "# The shape of aggregate production with conditional optimality\n",
    "\n",
    "Repeat the same steps but using the labor allocation condition: \n",
    "\n",
    "$$\n",
    "\\left(\\frac{1-t_e}{1-l_e}\\right)^{1-\\alpha}=\\alpha\\theta\\left(\\frac{t_e}{l_e}\\right)^{1-\\alpha}\n",
    "$$\n",
    "\n",
    "Out of this, we have:\n",
    "\n",
    "$$\n",
    "l_e^* = \\frac{(\\alpha\\theta)^\\frac{1}{1-\\alpha}t_e}{1-t_e+(\\alpha\\theta)^\\frac{1}{1-\\alpha}t_e}\n",
    "$$\n",
    "\n",
    "In the aggregate production function, we now have:\n",
    "\n",
    "$$\n",
    "Y=\\bar T^{1-\\alpha} \\bar L^\\alpha \\left(\\frac{1-t_e+\\frac{\\Lambda}{\\alpha}t_e}{(1-t_e+\\Lambda t_e)^\\alpha}\\right) - ct_eT\n",
    "$$\n",
    "\n",
    "where $\\Lambda = (\\alpha\\theta)^\\frac{1}{1-\\alpha}$. \n",
    "\n",
    "In intensive form, we can write this as:\n",
    "\n",
    "\n",
    "$$\n",
    "Y=T\\left[p^\\alpha \\left(\\frac{1-t_e+\\frac{\\Lambda}{\\alpha}t_e}{(1-t_e+\\Lambda t_e)^\\alpha}\\right) \n",
    "- ct_e\\right]\n",
    "$$\n"
   ]
  },
  {
   "cell_type": "markdown",
   "metadata": {},
   "source": [
    "# Characteristics of the function\n",
    "\n",
    "A couple of things are obvious about the above conditional optimum. First, note that the key thing about the function are $\\Lambda$, and $\\frac{\\Lambda}{\\alpha}$. First, the function is concave so long as $\\Lambda>1$. in this case, $\\Lambda>\\alpha$ is also greater than one. So, the numerator is linear and the denominator is concave, resulting in a concave function. This requires that $\\theta \\geq \\frac{1}{\\alpha}$.\n",
    "\n",
    "It is, however, also possible that $\\Lambda>\\alpha$, and $\\Lambda<1$. In this case, the numerator is linear and increasing, while the denominator is decreasing, so we have a convex function! So, here, we just check the corner solutions and see if output is higher when there is total enclosure...\n",
    "\n",
    "What about the case in which both the numerator and the denominator are negative? It can be shown that in this case, it is never desirable to enclose. Anyways, let's write our (intensive) function as follows:"
   ]
  },
  {
   "cell_type": "code",
   "execution_count": 7,
   "metadata": {},
   "outputs": [
    {
     "data": {
      "image/png": "[encoded data removed]",
      "text/latex": [
       "$$- c t_{e} + p^{\\alpha} \\left(\\Lambda t_{e} - t_{e} + 1\\right)^{- \\alpha} \\left(\\frac{\\Lambda t_{e}}{\\alpha} - t_{e} + 1\\right)$$"
      ],
      "text/plain": [
       "         α                -α ⎛Λ⋅tₑ         ⎞\n",
       "-c⋅tₑ + p ⋅(Λ⋅tₑ - tₑ + 1)  ⋅⎜──── - tₑ + 1⎟\n",
       "                             ⎝ α           ⎠"
      ]
     },
     "execution_count": 7,
     "metadata": {},
     "output_type": "execute_result"
    }
   ],
   "source": [
    "alpha, p, te, Lambda, theta, c = symbols('alpha p t_e Lambda theta c')\n",
    "\n",
    "Y = p**alpha* (1-te+Lambda/alpha*te) /  (1-te+Lambda*te)**alpha - c*te\n",
    "Y"
   ]
  },
  {
   "cell_type": "markdown",
   "metadata": {},
   "source": [
    "The derivative of this expression is: "
   ]
  },
  {
   "cell_type": "code",
   "execution_count": 8,
   "metadata": {},
   "outputs": [
    {
     "data": {
      "image/png": "[encoded data removed]",
      "text/latex": [
       "$$- \\frac{\\alpha p^{\\alpha} \\left(\\Lambda - 1\\right) \\left(\\Lambda t_{e} - t_{e} + 1\\right)^{- \\alpha} \\left(\\frac{\\Lambda t_{e}}{\\alpha} - t_{e} + 1\\right)}{\\Lambda t_{e} - t_{e} + 1} - c + p^{\\alpha} \\left(\\frac{\\Lambda}{\\alpha} - 1\\right) \\left(\\Lambda t_{e} - t_{e} + 1\\right)^{- \\alpha}$$"
      ],
      "text/plain": [
       "     α                        -α ⎛Λ⋅tₑ         ⎞                              \n",
       "  α⋅p ⋅(Λ - 1)⋅(Λ⋅tₑ - tₑ + 1)  ⋅⎜──── - tₑ + 1⎟                              \n",
       "                                 ⎝ α           ⎠        α ⎛Λ    ⎞             \n",
       "- ────────────────────────────────────────────── - c + p ⋅⎜─ - 1⎟⋅(Λ⋅tₑ - tₑ +\n",
       "                  Λ⋅tₑ - tₑ + 1                           ⎝α    ⎠             \n",
       "\n",
       "     \n",
       "     \n",
       "   -α\n",
       " 1)  \n",
       "     "
      ]
     },
     "execution_count": 8,
     "metadata": {},
     "output_type": "execute_result"
    }
   ],
   "source": [
    "Yp = diff(Y, te)\n",
    "Yp"
   ]
  },
  {
   "cell_type": "markdown",
   "metadata": {},
   "source": [
    "The values at zero and one are:"
   ]
  },
  {
   "cell_type": "code",
   "execution_count": 9,
   "metadata": {},
   "outputs": [
    {
     "data": {
      "image/png": "[encoded data removed]",
      "text/latex": [
       "$$\\left ( \\frac{- \\alpha \\left(\\alpha p^{\\alpha} \\left(\\Lambda - 1\\right) + c\\right) + p^{\\alpha} \\left(\\Lambda - \\alpha\\right)}{\\alpha}, \\quad - \\Lambda \\Lambda^{- \\alpha} p^{\\alpha} + \\frac{\\Lambda \\Lambda^{- \\alpha} p^{\\alpha}}{\\alpha} - c\\right )$$"
      ],
      "text/plain": [
       "⎛    ⎛   α            ⎞    α                          -α  α    ⎞\n",
       "⎜- α⋅⎝α⋅p ⋅(Λ - 1) + c⎠ + p ⋅(Λ - α)       -α  α   Λ⋅Λ  ⋅p     ⎟\n",
       "⎜───────────────────────────────────, - Λ⋅Λ  ⋅p  + ──────── - c⎟\n",
       "⎝                 α                                   α        ⎠"
      ]
     },
     "execution_count": 9,
     "metadata": {},
     "output_type": "execute_result"
    }
   ],
   "source": [
    "Yp0 = Yp.subs({te:0}).simplify()\n",
    "Yp1 = Yp.subs({te:1}).simplify()\n",
    "Yp0, Yp1"
   ]
  },
  {
   "cell_type": "markdown",
   "metadata": {},
   "source": [
    "So, our \"start enclosing\" locus and our \"finish enclosing\" locus are (once again, applicable when the function is concave):"
   ]
  },
  {
   "cell_type": "code",
   "execution_count": 10,
   "metadata": {
    "scrolled": true
   },
   "outputs": [
    {
     "data": {
      "image/png": "[encoded data removed]",
      "text/latex": [
       "$$\\left ( \\left(- \\frac{\\alpha c}{\\left(\\alpha - 1\\right) \\left(\\Lambda \\alpha + \\Lambda - \\alpha\\right)}\\right)^{\\frac{1}{\\alpha}}, \\quad \\left(- \\frac{\\Lambda^{\\alpha - 1} \\alpha c}{\\alpha - 1}\\right)^{\\frac{1}{\\alpha}}\\right )$$"
      ],
      "text/plain": [
       "⎛                                        ______________⎞\n",
       "⎜       _______________________         ╱   α - 1      ⎟\n",
       "⎜      ╱         -α⋅c                  ╱  -Λ     ⋅α⋅c  ⎟\n",
       "⎜alpha╱  ───────────────────── , alpha╱   ──────────── ⎟\n",
       "⎝   ╲╱   (α - 1)⋅(Λ⋅α + Λ - α)      ╲╱       α - 1     ⎠"
      ]
     },
     "execution_count": 10,
     "metadata": {},
     "output_type": "execute_result"
    }
   ],
   "source": [
    "solve(Yp0, p)[0], solve(Yp1, p)[0]"
   ]
  },
  {
   "cell_type": "markdown",
   "metadata": {},
   "source": [
    "Now, if the circumstances (2) on the list hold, then we just look at endpoints. We form:"
   ]
  },
  {
   "cell_type": "code",
   "execution_count": 11,
   "metadata": {},
   "outputs": [
    {
     "data": {
      "image/png": "[encoded data removed]",
      "text/latex": [
       "$$\\frac{\\Lambda \\Lambda^{- \\alpha} p^{\\alpha}}{\\alpha} - c - p^{\\alpha}$$"
      ],
      "text/plain": [
       "   -α  α         \n",
       "Λ⋅Λ  ⋅p         α\n",
       "──────── - c - p \n",
       "   α             "
      ]
     },
     "execution_count": 11,
     "metadata": {},
     "output_type": "execute_result"
    }
   ],
   "source": [
    "dY = Y.subs({te:1}) - Y.subs({te:0})\n",
    "dY"
   ]
  },
  {
   "cell_type": "code",
   "execution_count": 12,
   "metadata": {},
   "outputs": [
    {
     "data": {
      "image/png": "[encoded data removed]",
      "text/latex": [
       "$$\\left(\\frac{\\Lambda^{\\alpha} \\alpha c}{\\Lambda - \\Lambda^{\\alpha} \\alpha}\\right)^{\\frac{1}{\\alpha}}$$"
      ],
      "text/plain": [
       "         __________\n",
       "        ╱   α      \n",
       "       ╱   Λ ⋅α⋅c  \n",
       "      ╱   ──────── \n",
       "alpha╱         α   \n",
       "   ╲╱     Λ - Λ ⋅α "
      ]
     },
     "execution_count": 12,
     "metadata": {},
     "output_type": "execute_result"
    }
   ],
   "source": [
    "solve(dY, p)[0]"
   ]
  },
  {
   "cell_type": "markdown",
   "metadata": {},
   "source": [
    "Rewriting these conditions:\n",
    "\n",
    "$$\n",
    "p^*_0 = \\left[\\frac{\\alpha c}{(1-\\alpha)(\\Lambda(1+\\alpha)-\\alpha)}\\right]^\\frac{1}{\\alpha}\n",
    "$$\n",
    "\n",
    "$$\n",
    "p^*_1 = \\left[\\frac{\\alpha c}{(1-\\alpha)\\Lambda^{1-\\alpha}}\\right]^\\frac{1}{\\alpha}\n",
    "$$\n",
    "\n",
    "Rewriting without $\\Lambda$:\n",
    "\n",
    "$$\n",
    "p^*_0 = \\left[\\frac{\\alpha c}{(1-\\alpha)((\\alpha\\theta)^\\frac{1}{1-\\alpha}(1+\\alpha)-\\alpha)}\\right]^\\frac{1}{\\alpha}\n",
    "$$\n",
    "\n",
    "$$\n",
    "p^*_1 = \\left[\\frac{c}{(1-\\alpha)\\theta}\\right]^\\frac{1}{\\alpha}\n",
    "$$\n",
    "\n",
    "The flipping point when there is convexity is given by:\n",
    "\n",
    "$$\n",
    "p^*=\\left[\\frac{c}{\\theta-1}\\right]^\\frac{1}{\\alpha}\n",
    "$$"
   ]
  },
  {
   "cell_type": "markdown",
   "metadata": {},
   "source": [
    "Let's add these lines into the above and see where it gets us. It is a total of three lines...but we will want two diagrams, one with conditional optimality, and one without. So, let's make a switch that does that..."
   ]
  },
  {
   "cell_type": "code",
   "execution_count": 13,
   "metadata": {},
   "outputs": [
    {
     "name": "stderr",
     "output_type": "stream",
     "text": [
      "findfont: Font family ['sans-serif'] not found. Falling back to DejaVu Sans.\n",
      "findfont: Font family ['sans-serif'] not found. Falling back to DejaVu Sans.\n"
     ]
    },
    {
     "data": {
      "image/png": "[encoded data removed]",
      "text/plain": [
       "<Figure size 720x576 with 1 Axes>"
      ]
     },
     "metadata": {},
     "output_type": "display_data"
    }
   ],
   "source": [
    "import numpy as np\n",
    "import matplotlib.pyplot as plt\n",
    "\n",
    "from matplotlib.lines import Line2D\n",
    "\n",
    "##### Base parameters  and switch #####\n",
    "\n",
    "c        = 1\n",
    "alp      = 2/3\n",
    "cond_opt = True\n",
    "\n",
    "##### Truncated ranges applicable only at certain points ####\n",
    "\n",
    "start  = 1.1\n",
    "finish = 2.1\n",
    "the_1 = np.arange(start, finish, .01)\n",
    "\n",
    "ln_po0 = np.log(( c                      / ((the_1**(1/(1-alp)) - 1)*(1-alp))  ) **(1/alp))\n",
    "ln_po1 = np.log(( c*the_1**(alp/(1-alp)) / ((the_1**(1/(1-alp)) - 1)*(1-alp))  ) **(1/alp))\n",
    "\n",
    "##### For these lines, we need separate plot ranges, so which run to the critical value\n",
    "\n",
    "cv = 1 / alp\n",
    "\n",
    "the_r1 = np.arange(start, cv, .01)\n",
    "the_r2 = np.arange(cv, finish, .01)\n",
    "\n",
    "ln_ps0 = np.log(( alp*c                  / (((the_r2*alp)**(1/(1-alp))*(1+alp) - alp)*(1-alp))  ) **(1/alp))\n",
    "ln_ps1 = np.log(( c                      / (the_r2*(1-alp)  ) ) **(1/alp))\n",
    "ln_ps  = np.log(( c/(the_r1 - 1))**(1/alp))\n",
    "\n",
    "fig, ax = plt.subplots(figsize=(10, 8))\n",
    "\n",
    "ax.spines['top'].set_visible(False)\n",
    "ax.spines['right'].set_visible(False)\n",
    "ax.spines['left'].set_linewidth(2)\n",
    "ax.spines['bottom'].set_linewidth(2)\n",
    "\n",
    "xlbl = ax.set_xlabel(r'$\\theta$', fontsize=26)\n",
    "ylbl = ax.set_ylabel(r'$\\ln(\\overline{l})$', fontsize=26)\n",
    "\n",
    "# Shift the label on the x-axis a little bit\n",
    "\n",
    "xpos = list(xlbl.get_position())\n",
    "xpos[0] = xpos[0]+.41\n",
    "xpos[1] = xpos[1]-.02\n",
    "ax.xaxis.set_label_coords(xpos[0], xpos[1])\n",
    "\n",
    "ax.set_xticks([])\n",
    "ax.set_yticks([])\n",
    "\n",
    "oline1 = ax.plot(the_1, ln_po0, color= 'black')\n",
    "bline1 = ax.plot(the_1, ln_po1, color= 'black')\n",
    "\n",
    "if cond_opt:\n",
    "    gline1 = ax.plot(the_r2, ln_ps0, color= 'black', linestyle='dashed')\n",
    "    pline1 = ax.plot(the_r2, ln_ps1, color= 'black', linestyle='dashed')\n",
    "    bkline = ax.plot(the_r1, ln_ps,  color='black', linestyle='dashed')\n",
    "\n",
    "vline1 = ax.axvline(1/alp, ymax=.95, linestyle=':', color='black')\n",
    "vline2 = ax.axvline(1, ymax=.95, linestyle=':', color='black')\n",
    "\n",
    "ep = np.max(the_1)+.021\n",
    "\n",
    "t1 = ax.text(ep, np.min(ln_po0), r'$l^o_0$', fontsize=16)\n",
    "t2 = ax.text(ep, np.min(ln_po1)+.05, r'$l^o_1$', fontsize=16)\n",
    "\n",
    "if cond_opt:\n",
    "    t3 = ax.text(ep, np.min(ln_ps0), r'$l^*_0$', fontsize=16)\n",
    "    t4 = ax.text(ep, np.min(ln_ps1)-.05, r'$l^*_1$', fontsize=16)\n",
    "    t5 = ax.text(cv-.1, np.min(ln_ps)-.04, r'$l^*$', fontsize=16)\n",
    "\n",
    "ax.text(cv, np.min(ln_po0)-.5, r'$\\frac{1}{\\alpha}$', fontsize=16)\n",
    "ax.text(1, np.min(ln_po0)-.5, r'$1$', fontsize=16)\n",
    "\n",
    "if cond_opt == False:\n",
    "    fig.savefig('social_optimum.png')\n",
    "else:\n",
    "    fig.savefig('social_opt_cond.png')"
   ]
  },
  {
   "cell_type": "raw",
   "metadata": {},
   "source": [
    "def Y(t, T=1, p=12, c=1, a=1/2):\n",
    "    \n",
    "    lam = a*T**(1/(1-a))\n",
    "    return p**a*(1 +lam/a*t-t ) / (1 + lam*t - t)**a - c*t\n",
    "    print(lam, lam/a)\n",
    "\n",
    "tt = np.arange(0, 1, .01)\n",
    "\n",
    "Yt = Y(tt, 1)\n",
    "pud = plt.plot(tt, Yt)"
   ]
  },
  {
   "cell_type": "markdown",
   "metadata": {},
   "source": [
    "# Decentralized Equilbria\n",
    "\n",
    "We have found the key loci (as described in the paper) are as follows:\n",
    "\n",
    "$$\n",
    "p_0^d = \\left[\\frac{\\alpha c}{(1-\\alpha)\\Lambda}\\right]^\\frac{1}{\\alpha}\n",
    "$$\n",
    "\n",
    "$$\n",
    "p_1^d = \\left[\\frac{ c}{\\theta(1-\\alpha)}\\right]^\\frac{1}{\\alpha}\n",
    "$$\n",
    "\n",
    "and\n",
    "\n",
    "$$\n",
    "p_{gg}^d = \\left[\\frac{ \\alpha c}{1-\\alpha \\theta}\\frac{1-\\Lambda}{\\Lambda}\\right]^\\frac{1}{\\alpha}\n",
    "$$\n",
    "\n",
    "As we will ultimately superimpose our two diagrams, let's try drawing these in the same scale as the above..."
   ]
  },
  {
   "cell_type": "code",
   "execution_count": 20,
   "metadata": {},
   "outputs": [
    {
     "data": {
      "image/png": "[encoded data removed]",
      "text/plain": [
       "<Figure size 720x576 with 1 Axes>"
      ]
     },
     "metadata": {},
     "output_type": "display_data"
    }
   ],
   "source": [
    "full_diag = False\n",
    "\n",
    "the_1 = np.arange(start, finish, .01)\n",
    "\n",
    "### Truncated range for the other stuff\n",
    "\n",
    "the_d = np.arange(.8, finish, .01)\n",
    "\n",
    "#the_d = np.arange(1/alp, finish, .01)\n",
    "the_gg = np.arange(.8, cv, .01 )\n",
    "\n",
    "ln_po0 = np.log(( c                      / ((the_1**(1/(1-alp)) - 1)*(1-alp))  ) **(1/alp))\n",
    "ln_po1 = np.log(( c*the_1**(alp/(1-alp)) / ((the_1**(1/(1-alp)) - 1)*(1-alp))  ) **(1/alp))\n",
    "\n",
    "##### For these lines, we need separate plot ranges, so which run to the critical value\n",
    "\n",
    "the_r1 = np.arange(start, cv, .01)\n",
    "the_r2 = np.arange(cv, finish, .01)\n",
    "\n",
    "### Conditional optimum commented out\n",
    "\n",
    "ln_ps0 = np.log(( alp*c                  / (((the_r2*alp)**(1/(1-alp))*(1+alp) - alp)*(1-alp))  ) **(1/alp))\n",
    "ln_ps1 = np.log(( c                      / (the_r2*(1-alp)  ) ) **(1/alp))\n",
    "ln_ps  = np.log(( c/(the_r1 - 1))**(1/alp))\n",
    "\n",
    "ln_pd0  = np.log( ( alp*c / ((1-alp)*(alp*the_d)**(1/(1-alp)))  ) **(1/alp) )\n",
    "ln_pd1  = np.log( ( c / (the_d*(1-alp))) **(1/alp)  )\n",
    "Lamgg = (alp*the_gg)**(1/(1-alp))\n",
    "ln_pdgg = np.log( ( alp*c / (1-alp*the_gg) *  (1-Lamgg)/Lamgg )**(1/alp) )               \n",
    "\n",
    "fig, ax = plt.subplots(figsize=(10, 8))\n",
    "\n",
    "ax.spines['top'].set_visible(False)\n",
    "ax.spines['right'].set_visible(False)\n",
    "ax.spines['left'].set_linewidth(2)\n",
    "ax.spines['bottom'].set_linewidth(2)\n",
    "\n",
    "xlbl = ax.set_xlabel(r'$\\theta$', fontsize=26)\n",
    "ylbl = ax.set_ylabel(r'$\\ln(\\overline{l})$', fontsize=26)\n",
    "\n",
    "# Shift the label on the x-axis a little bit\n",
    "\n",
    "xpos = list(xlbl.get_position())\n",
    "xpos[0] = xpos[0]+.41\n",
    "xpos[1] = xpos[1]-.02\n",
    "ax.xaxis.set_label_coords(xpos[0], xpos[1])\n",
    "\n",
    "ax.set_xticks([])\n",
    "ax.set_yticks([])\n",
    "\n",
    "ep = np.max(the_1)+.021\n",
    "\n",
    "# Conditional optimum stuff commented out...\n",
    "\n",
    "if full_diag:\n",
    "    oline1 = ax.plot(the_1, ln_po0, color= 'black')\n",
    "    bline1 = ax.plot(the_1, ln_po1, color= 'black')\n",
    "#    gline1 = ax.plot(the_r2, ln_ps0, color= 'black', linestyle='dashed')\n",
    "#    pline1 = ax.plot(the_r2, ln_ps1+.02, color= 'black', linestyle='dashed')\n",
    "#    bkline = ax.plot(the_r1, ln_ps,  color='black', linestyle='dashed')\n",
    "\n",
    "    t1 = ax.text(ep, np.min(ln_po0), r'$l^o_0$', fontsize=16)\n",
    "    t2 = ax.text(ep, np.min(ln_po1)+.05, r'$l^o_1$', fontsize=16)\n",
    "#    t3 = ax.text(ep, np.min(ln_ps0), r'$l^*_0$', fontsize=16)\n",
    "#    t4 = ax.text(ep, np.min(ln_ps1)-.05, r'$l^*_1$', fontsize=16)\n",
    "#    t5 = ax.text(cv-.1, np.min(ln_ps)+.34, r'$l^*$', fontsize=16)\n",
    "\n",
    "## Comment out the global game stuff..\n",
    "\n",
    "bbline1 = ax.plot(the_d, ln_pd0, color='red')\n",
    "bbline2 = ax.plot(the_d, ln_pd1, color='red')\n",
    "bbline3 = ax.plot(the_gg, ln_pdgg, color='red', linestyle='dashed')\n",
    "\n",
    "vline1 = ax.axvline(1/alp, ymax=.95, linestyle=':', color='black')\n",
    "vline2 = ax.axvline(1, ymax=.95, linestyle=':', color='black')\n",
    "\n",
    "d1  = ax.text(ep, np.min(ln_pd0), r'$l^d_0$', fontsize=16)\n",
    "dgg = ax.text(np.max(the_gg)-.3, np.min(ln_pdgg)+.4, r'$l^d$', fontsize=16)\n",
    "\n",
    "if full_diag:\n",
    "#    d2  = ax.text(ep+.05, np.min(ln_pd1)-.07, r' $l^d_1$', fontsize=16)\n",
    "     d2  = ax.text(ep, np.min(ln_pd1)-.07, r'$l^d_1$', fontsize=16)\n",
    "else:\n",
    "    d2  = ax.text(ep, np.min(ln_pd1), r'$l^d_1$', fontsize=16)\n",
    "\n",
    "if full_diag:\n",
    "    text1 = ax.text(cv, np.min(ln_pd0)-1.75, r'$\\frac{1}{\\alpha}$', fontsize=16)\n",
    "    text2 = ax.text(1, np.min(ln_pd0)-1.75, r'$1$', fontsize=16)\n",
    "else:\n",
    "    text1 = ax.text(cv, np.min(ln_pd0)-.5, r'$\\frac{1}{\\alpha}$', fontsize=16)\n",
    "    text2 = ax.text(1, np.min(ln_pd0)-.5, r'$1$', fontsize=16)    \n",
    "\n",
    "if full_diag:\n",
    "    fig.savefig('nash_so_comp.png')\n",
    "else:\n",
    "    fig.savefig('nash_eq.png')"
   ]
  },
  {
   "cell_type": "code",
   "execution_count": null,
   "metadata": {},
   "outputs": [],
   "source": []
  },
  {
   "cell_type": "markdown",
   "metadata": {},
   "source": [
    "# Monopoly profit function\n",
    "\n",
    "I will rewrite the whole problem here so that I am sure I didn't clobber stuff previously. So here is the intensive production function."
   ]
  },
  {
   "cell_type": "code",
   "execution_count": 21,
   "metadata": {},
   "outputs": [
    {
     "data": {
      "image/png": "[encoded data removed]",
      "text/latex": [
       "$$\\frac{\\Lambda p^{\\alpha} t_{e} \\left(- \\alpha + 1\\right) \\left(\\Lambda t_{e} - t_{e} + 1\\right)^{- \\alpha}}{\\alpha} - c t_{e}$$"
      ],
      "text/plain": [
       "   α                            -α       \n",
       "Λ⋅p ⋅tₑ⋅(-α + 1)⋅(Λ⋅tₑ - tₑ + 1)         \n",
       "────────────────────────────────── - c⋅tₑ\n",
       "                α                        "
      ]
     },
     "execution_count": 21,
     "metadata": {},
     "output_type": "execute_result"
    }
   ],
   "source": [
    "alpha, p, te, Lambda, theta, c = symbols('alpha p t_e Lambda theta c')\n",
    "\n",
    "pie = (1-alpha)*p**alpha* Lambda/alpha* (1-te+Lambda*te)**(-alpha)*te - c*te\n",
    "pie"
   ]
  },
  {
   "cell_type": "markdown",
   "metadata": {},
   "source": [
    "The derivative of the above with respect to $t_e$ is:"
   ]
  },
  {
   "cell_type": "code",
   "execution_count": 22,
   "metadata": {},
   "outputs": [
    {
     "data": {
      "image/png": "[encoded data removed]",
      "text/latex": [
       "$$- \\frac{\\Lambda p^{\\alpha} t_{e} \\left(\\Lambda - 1\\right) \\left(- \\alpha + 1\\right) \\left(\\Lambda t_{e} - t_{e} + 1\\right)^{- \\alpha}}{\\Lambda t_{e} - t_{e} + 1} + \\frac{\\Lambda p^{\\alpha} \\left(- \\alpha + 1\\right) \\left(\\Lambda t_{e} - t_{e} + 1\\right)^{- \\alpha}}{\\alpha} - c$$"
      ],
      "text/plain": [
       "     α                                    -α      α                         -α\n",
       "  Λ⋅p ⋅tₑ⋅(Λ - 1)⋅(-α + 1)⋅(Λ⋅tₑ - tₑ + 1)     Λ⋅p ⋅(-α + 1)⋅(Λ⋅tₑ - tₑ + 1)  \n",
       "- ────────────────────────────────────────── + ───────────────────────────────\n",
       "                Λ⋅tₑ - tₑ + 1                                 α               \n",
       "\n",
       "    \n",
       "    \n",
       " - c\n",
       "    "
      ]
     },
     "execution_count": 22,
     "metadata": {},
     "output_type": "execute_result"
    }
   ],
   "source": [
    "dpiedte = diff(pie, te)\n",
    "dpiedte"
   ]
  },
  {
   "cell_type": "markdown",
   "metadata": {},
   "source": [
    "So, now what we can do is basically check the endpoints of this function and see when enclosure should begin. Our first locus, where a monopolist will begin some enclosure..."
   ]
  },
  {
   "cell_type": "code",
   "execution_count": 23,
   "metadata": {},
   "outputs": [
    {
     "data": {
      "image/png": "[encoded data removed]",
      "text/latex": [
       "$$\\left [ \\left(- \\frac{\\alpha c}{\\Lambda \\left(\\alpha - 1\\right)}\\right)^{\\frac{1}{\\alpha}}\\right ]$$"
      ],
      "text/plain": [
       "⎡       ___________⎤\n",
       "⎢      ╱   -α⋅c    ⎥\n",
       "⎢alpha╱  ───────── ⎥\n",
       "⎣   ╲╱   Λ⋅(α - 1) ⎦"
      ]
     },
     "execution_count": 23,
     "metadata": {},
     "output_type": "execute_result"
    }
   ],
   "source": [
    "solve(dpiedte.subs({te:0}).simplify(), p)"
   ]
  },
  {
   "cell_type": "code",
   "execution_count": 24,
   "metadata": {},
   "outputs": [
    {
     "data": {
      "image/png": "[encoded data removed]",
      "text/latex": [
       "$$\\left(- \\frac{\\Lambda^{\\alpha} \\alpha c}{\\left(\\alpha - 1\\right) \\left(- \\Lambda \\alpha + \\Lambda + \\alpha\\right)}\\right)^{\\frac{1}{\\alpha}}$$"
      ],
      "text/plain": [
       "        ________________________\n",
       "       ╱          α             \n",
       "      ╱         -Λ ⋅α⋅c         \n",
       "alpha╱   ────────────────────── \n",
       "   ╲╱    (α - 1)⋅(-Λ⋅α + Λ + α) "
      ]
     },
     "execution_count": 24,
     "metadata": {},
     "output_type": "execute_result"
    }
   ],
   "source": [
    "solve(dpiedte.subs({te:1}).simplify(), p)[0]"
   ]
  },
  {
   "cell_type": "markdown",
   "metadata": {},
   "source": [
    "# Monopoly Diagram"
   ]
  },
  {
   "cell_type": "code",
   "execution_count": 25,
   "metadata": {},
   "outputs": [
    {
     "data": {
      "image/png": "[encoded data removed]",
      "text/plain": [
       "<Figure size 720x576 with 1 Axes>"
      ]
     },
     "metadata": {},
     "output_type": "display_data"
    }
   ],
   "source": [
    "full_diag = True\n",
    "\n",
    "c        = 1\n",
    "alp      = 2/3\n",
    "\n",
    "the_1 = np.arange(start, finish, .01)\n",
    "#the_d = np.arange(.8, finish, .01)\n",
    "the_d = np.arange(1/alp, finish, .01)\n",
    "the_gg = np.arange(.8, cv, .01 )\n",
    "\n",
    "ln_po0 = np.log(( c                      / ((the_1**(1/(1-alp)) - 1)*(1-alp))  ) **(1/alp))\n",
    "ln_po1 = np.log(( c*the_1**(alp/(1-alp)) / ((the_1**(1/(1-alp)) - 1)*(1-alp))  ) **(1/alp))\n",
    "\n",
    "##### For these lines, we need separate plot ranges, so which run to the critical value\n",
    "\n",
    "the_r1 = np.arange(start, cv, .01)\n",
    "the_r2 = np.arange(cv, finish, .01)\n",
    "\n",
    "ln_ps0 = np.log(( alp*c                  / (((the_r2*alp)**(1/(1-alp))*(1+alp) - alp)*(1-alp))  ) **(1/alp))\n",
    "ln_ps1 = np.log(( c                      / (the_r2*(1-alp)  ) ) **(1/alp))\n",
    "ln_ps  = np.log(( c/(the_r1 - 1))**(1/alp))\n",
    "\n",
    "ln_pd0  = np.log( ( alp*c / ((1-alp)*(alp*the_d)**(1/(1-alp)))  ) **(1/alp) )\n",
    "ln_pd1  = np.log( ( c / (the_d*(1-alp))) **(1/alp)  )\n",
    "Lamgg = (alp*the_gg)**(1/(1-alp))\n",
    "ln_pdgg = np.log( ( alp*c / (1-alp*the_gg) *  (1-Lamgg)/Lamgg )**(1/alp) ) \n",
    "\n",
    "##### Lines for Monopoly\n",
    "\n",
    "ln_pm   = np.log( (c / ((1-alp)*the_gg))**(1/alp) ) -.03\n",
    "\n",
    "Lamr2   = (alp*the_r2)**(1/(1-alp))\n",
    "ln_pm0  = np.log( (c *alp / ((1-alp)*Lamr2))**(1/alp) ) - .03\n",
    "ln_pm1  = np.log( (c * alp * Lamr2**alp /((1-alp)*(Lamr2*(1-alp)+alp)) )**(1/alp) )\n",
    "\n",
    "#### Now for the actual figure \n",
    "\n",
    "fig, ax = plt.subplots(figsize=(10, 8))\n",
    "\n",
    "ax.spines['top'].set_visible(False)\n",
    "ax.spines['right'].set_visible(False)\n",
    "ax.spines['left'].set_linewidth(2)\n",
    "ax.spines['bottom'].set_linewidth(2)\n",
    "\n",
    "xlbl = ax.set_xlabel(r'$\\theta$', fontsize=26)\n",
    "ylbl = ax.set_ylabel(r'$\\ln(\\bar l)$', fontsize=26)\n",
    "\n",
    "# Shift the label on the x-axis a little bit\n",
    "\n",
    "xpos = list(xlbl.get_position())\n",
    "xpos[0] = xpos[0]+.41\n",
    "xpos[1] = xpos[1]-.02\n",
    "ax.xaxis.set_label_coords(xpos[0], xpos[1])\n",
    "\n",
    "ax.set_xticks([])\n",
    "ax.set_yticks([])\n",
    "\n",
    "ep = np.max(the_1)+.021\n",
    "\n",
    "\n",
    "if full_diag:\n",
    "    oline1 = ax.plot(the_1, ln_po0, color= 'black')\n",
    "    bline1 = ax.plot(the_1, ln_po1, color= 'black')\n",
    "#    gline1 = ax.plot(the_r2, ln_ps0, color= 'black', linestyle='dashed')\n",
    "#    pline1 = ax.plot(the_r2, ln_ps1+.02, color= 'black', linestyle='dashed')\n",
    "#    bkline = ax.plot(the_r1, ln_ps,  color='black', linestyle='dashed')\n",
    "\n",
    "    t1 = ax.text(ep, np.min(ln_po0), r'$l^o_0$', fontsize=16)\n",
    "    t2 = ax.text(ep, np.min(ln_po1)+.05, r'$l^o_1$', fontsize=16)\n",
    "#    t3 = ax.text(ep, np.min(ln_ps0), r'$l^*_0$', fontsize=16)\n",
    "#    t4 = ax.text(ep, np.min(ln_ps1)-.05, r'$l^*_1$', fontsize=16)\n",
    "#    t5 = ax.text(cv-.1, np.min(ln_ps)+.34, r'$l^*$', fontsize=16)\n",
    "\n",
    "bbline1 = ax.plot(the_d, ln_pd0, color='red')\n",
    "bbline2 = ax.plot(the_d, ln_pd1, color='red')\n",
    "bbline3 = ax.plot(the_gg, ln_pdgg, color='red', linestyle='dashed')\n",
    "\n",
    "vline1 = ax.axvline(1/alp, ymax=.95, linestyle=':', color='black')\n",
    "vline2 = ax.axvline(1, ymax=.95, linestyle=':', color='black')\n",
    "\n",
    "moline1 = ax.plot(the_gg, ln_pm, color='green')\n",
    "moline2 = ax.plot(the_r2, ln_pm0, color='green')\n",
    "moline3 = ax.plot(the_r2, ln_pm1, color='green')\n",
    "\n",
    "d1  = ax.text(ep, np.min(ln_pd0), r'$l^d_0, l^m_0$', fontsize=16)\n",
    "dgg = ax.text(np.max(the_gg)-.34, np.min(ln_pdgg)+.4, r'$l^o_0, l_m$', fontsize=16)\n",
    "\n",
    "if full_diag:\n",
    "    d2  = ax.text(ep, np.min(ln_pd1), r'$l^d_1$', fontsize=16)\n",
    "else:\n",
    "    d2  = ax.text(ep, np.min(ln_pd1), r'$l^d_1$', fontsize=16)\n",
    "\n",
    "    \n",
    "    \n",
    "if full_diag:\n",
    "    text1 = ax.text(cv, np.min(ln_pd0)-1.75, r'$\\frac{1}{\\alpha}$', fontsize=16)\n",
    "    text2 = ax.text(1, np.min(ln_pd0)-1.75, r'$1$', fontsize=16)\n",
    "else:\n",
    "    text1 = ax.text(cv, np.min(ln_pd0)-.5, r'$\\frac{1}{\\alpha}$', fontsize=16)\n",
    "    text2 = ax.text(1, np.min(ln_pd0)-.5, r'$1$', fontsize=16)    \n",
    "    \n",
    "textm = ax.text(np.max(the_r2)+.04, np.max(ln_pm1), r'$l_1^m$', fontsize=16)\n",
    "\n",
    "if full_diag:\n",
    "    fig.savefig('monopoly.png')"
   ]
  },
  {
   "cell_type": "code",
   "execution_count": null,
   "metadata": {},
   "outputs": [],
   "source": []
  },
  {
   "cell_type": "code",
   "execution_count": null,
   "metadata": {},
   "outputs": [],
   "source": []
  }
 ],
 "metadata": {
  "kernelspec": {
   "display_name": "Python 3",
   "language": "python",
   "name": "python3"
  },
  "language_info": {
   "codemirror_mode": {
    "name": "ipython",
    "version": 3
   },
   "file_extension": ".py",
   "mimetype": "text/x-python",
   "name": "python",
   "nbconvert_exporter": "python",
   "pygments_lexer": "ipython3",
   "version": "3.7.3"
  }
 },
 "nbformat": 4,
 "nbformat_minor": 2
}
